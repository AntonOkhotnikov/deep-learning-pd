{
 "cells": [
  {
   "cell_type": "code",
   "execution_count": 13,
   "metadata": {},
   "outputs": [],
   "source": [
    "import tensorflow\n",
    "import keras\n",
    "import os\n",
    "import pandas as pd\n",
    "import h5py\n",
    "from sklearn.model_selection import train_test_split\n",
    "from sklearn.metrics import accuracy_score, roc_auc_score, f1_score\n",
    "from sklearn.model_selection import StratifiedKFold\n",
    "import numpy as np\n",
    "from keras.optimizers import SGD\n",
    "from keras.utils import np_utils\n",
    "from keras.models import Sequential\n",
    "from keras.layers.core import Dense, Activation\n",
    "from keras.layers.recurrent import LSTM\n",
    "# from keras.layers import Dropout, Flatten, Convolution1D as Conv1D, Convolution2D as Conv2D\n",
    "from keras.callbacks import EarlyStopping\n",
    "from keras.layers import Dropout\n",
    "from keras.layers.advanced_activations import LeakyReLU"
   ]
  },
  {
   "cell_type": "markdown",
   "metadata": {},
   "source": [
    "### Load the dataset"
   ]
  },
  {
   "cell_type": "code",
   "execution_count": 14,
   "metadata": {},
   "outputs": [
    {
     "name": "stdout",
     "output_type": "stream",
     "text": [
      "/mainfs/lyceum/ao2u17/Dissertation\n"
     ]
    }
   ],
   "source": [
    "path = os.getcwd()\n",
    "print(path)\n",
    "filename = '/data_encoding_MLP_chunk200.json'"
   ]
  },
  {
   "cell_type": "code",
   "execution_count": 15,
   "metadata": {},
   "outputs": [
    {
     "name": "stdout",
     "output_type": "stream",
     "text": [
      "Target shape (85,)\n",
      "Train shape (85,)\n"
     ]
    }
   ],
   "source": [
    "# h5f = h5py.File(path + filename,'r')\n",
    "# X_train = h5f['train'][:]\n",
    "# Y_train = h5f['target'][:]\n",
    "# h5f.close()\n",
    "df = pd.read_json(path + filename)\n",
    "X_train = df['data']\n",
    "Y_train = df['target']\n",
    "\n",
    "X_train = X_train.apply(lambda x: np.array(x))\n",
    "Y_train = Y_train.apply(lambda x: np.array(x))\n",
    "\n",
    "print('Target shape', Y_train.shape)\n",
    "print('Train shape', X_train.shape)"
   ]
  },
  {
   "cell_type": "markdown",
   "metadata": {},
   "source": [
    "### Stack all the data in one array"
   ]
  },
  {
   "cell_type": "code",
   "execution_count": 16,
   "metadata": {
    "scrolled": true
   },
   "outputs": [],
   "source": [
    "def stack_arr(array):\n",
    "    global res\n",
    "    try:\n",
    "        res.shape[0]\n",
    "        res = np.concatenate((res, array), axis=0)\n",
    "    except:\n",
    "        res = array\n",
    "    pass"
   ]
  },
  {
   "cell_type": "code",
   "execution_count": 17,
   "metadata": {
    "scrolled": true
   },
   "outputs": [],
   "source": [
    "res = np.array(0)\n",
    "tmp = X_train.apply(lambda x: stack_arr(x))\n",
    "X_train = res\n",
    "\n",
    "res = np.array(0)\n",
    "tmp = Y_train.apply(lambda x: stack_arr(x))\n",
    "Y_train = res"
   ]
  },
  {
   "cell_type": "code",
   "execution_count": 18,
   "metadata": {},
   "outputs": [
    {
     "name": "stdout",
     "output_type": "stream",
     "text": [
      "Target shape (1607,)\n",
      "Train shape (1607, 400)\n"
     ]
    }
   ],
   "source": [
    "print('Target shape', Y_train.shape)\n",
    "print('Train shape', X_train.shape)\n",
    "# shape is two times bigger than chunk size because I stack two features here into 1-dim array\n",
    "# hold time and between time - features"
   ]
  },
  {
   "cell_type": "markdown",
   "metadata": {},
   "source": [
    "### Split to train and test"
   ]
  },
  {
   "cell_type": "code",
   "execution_count": 7,
   "metadata": {},
   "outputs": [],
   "source": [
    "X_train, X_test, Y_train, Y_test = train_test_split(X_train, Y_train, test_size=0.1, random_state=15)"
   ]
  },
  {
   "cell_type": "code",
   "execution_count": 8,
   "metadata": {},
   "outputs": [
    {
     "data": {
      "text/plain": [
       "(1446, 400)"
      ]
     },
     "execution_count": 8,
     "metadata": {},
     "output_type": "execute_result"
    }
   ],
   "source": [
    "# X_train.iloc[4].shape\n",
    "X_train.shape"
   ]
  },
  {
   "cell_type": "markdown",
   "metadata": {},
   "source": [
    "### Build model"
   ]
  },
  {
   "cell_type": "code",
   "execution_count": 10,
   "metadata": {
    "scrolled": true
   },
   "outputs": [
    {
     "name": "stdout",
     "output_type": "stream",
     "text": [
      "Build model...\n",
      "Train...\n",
      "Epoch 1/60\n",
      "1446/1446 [==============================] - 2s 1ms/step - loss: 1.0506 - binary_accuracy: 0.4965\n",
      "Epoch 2/60\n",
      "1446/1446 [==============================] - 0s 201us/step - loss: 0.8798 - binary_accuracy: 0.6231\n",
      "Epoch 3/60\n",
      "1446/1446 [==============================] - 0s 199us/step - loss: 0.8324 - binary_accuracy: 0.6646\n",
      "Epoch 4/60\n",
      "1446/1446 [==============================] - 0s 200us/step - loss: 0.7839 - binary_accuracy: 0.7089\n",
      "Epoch 5/60\n",
      "1446/1446 [==============================] - 0s 199us/step - loss: 0.7386 - binary_accuracy: 0.7559\n",
      "Epoch 6/60\n",
      "1446/1446 [==============================] - 0s 200us/step - loss: 0.7000 - binary_accuracy: 0.7725\n",
      "Epoch 7/60\n",
      "1446/1446 [==============================] - 0s 203us/step - loss: 0.7054 - binary_accuracy: 0.8008\n",
      "Epoch 8/60\n",
      "1446/1446 [==============================] - 0s 201us/step - loss: 0.6658 - binary_accuracy: 0.8202\n",
      "Epoch 9/60\n",
      "1446/1446 [==============================] - 0s 202us/step - loss: 0.6521 - binary_accuracy: 0.8361\n",
      "Epoch 10/60\n",
      "1446/1446 [==============================] - 0s 202us/step - loss: 0.6230 - binary_accuracy: 0.8499\n",
      "Epoch 11/60\n",
      "1446/1446 [==============================] - 0s 200us/step - loss: 0.6123 - binary_accuracy: 0.8672\n",
      "Epoch 12/60\n",
      "1446/1446 [==============================] - 0s 203us/step - loss: 0.5947 - binary_accuracy: 0.8631\n",
      "Epoch 13/60\n",
      "1446/1446 [==============================] - 0s 202us/step - loss: 0.5596 - binary_accuracy: 0.8893\n",
      "Epoch 14/60\n",
      "1446/1446 [==============================] - 0s 201us/step - loss: 0.5562 - binary_accuracy: 0.8845\n",
      "Epoch 15/60\n",
      "1446/1446 [==============================] - 0s 200us/step - loss: 0.5313 - binary_accuracy: 0.8976\n",
      "Epoch 16/60\n",
      "1446/1446 [==============================] - 0s 204us/step - loss: 0.5174 - binary_accuracy: 0.9115\n",
      "Epoch 17/60\n",
      "1446/1446 [==============================] - 0s 202us/step - loss: 0.4999 - binary_accuracy: 0.9246\n",
      "Epoch 18/60\n",
      "1446/1446 [==============================] - 0s 192us/step - loss: 0.4890 - binary_accuracy: 0.9239\n",
      "Epoch 19/60\n",
      "1446/1446 [==============================] - 0s 202us/step - loss: 0.4744 - binary_accuracy: 0.9288\n",
      "Epoch 20/60\n",
      "1446/1446 [==============================] - 0s 198us/step - loss: 0.4608 - binary_accuracy: 0.9329\n",
      "Epoch 21/60\n",
      "1446/1446 [==============================] - 0s 199us/step - loss: 0.4477 - binary_accuracy: 0.9426\n",
      "Epoch 22/60\n",
      "1446/1446 [==============================] - 0s 201us/step - loss: 0.4372 - binary_accuracy: 0.9412\n",
      "Epoch 23/60\n",
      "1446/1446 [==============================] - 0s 199us/step - loss: 0.4246 - binary_accuracy: 0.9447\n",
      "Epoch 24/60\n",
      "1446/1446 [==============================] - 0s 200us/step - loss: 0.4177 - binary_accuracy: 0.9467\n",
      "Epoch 25/60\n",
      "1446/1446 [==============================] - 0s 200us/step - loss: 0.4133 - binary_accuracy: 0.9502\n",
      "Epoch 26/60\n",
      "1446/1446 [==============================] - 0s 198us/step - loss: 0.3945 - binary_accuracy: 0.9599\n",
      "Epoch 27/60\n",
      "1446/1446 [==============================] - 0s 200us/step - loss: 0.3869 - binary_accuracy: 0.9633\n",
      "Epoch 28/60\n",
      "1446/1446 [==============================] - 0s 199us/step - loss: 0.3846 - binary_accuracy: 0.9592\n",
      "Epoch 29/60\n",
      "1446/1446 [==============================] - 0s 200us/step - loss: 0.3730 - binary_accuracy: 0.9633\n",
      "Epoch 30/60\n",
      "1446/1446 [==============================] - 0s 202us/step - loss: 0.3634 - binary_accuracy: 0.9689\n",
      "Epoch 31/60\n",
      "1446/1446 [==============================] - 0s 200us/step - loss: 0.3596 - binary_accuracy: 0.9668\n",
      "Epoch 32/60\n",
      "1446/1446 [==============================] - 0s 200us/step - loss: 0.3509 - binary_accuracy: 0.9716\n",
      "Epoch 33/60\n",
      "1446/1446 [==============================] - 0s 200us/step - loss: 0.3430 - binary_accuracy: 0.9737\n",
      "Epoch 34/60\n",
      "1446/1446 [==============================] - 0s 201us/step - loss: 0.3351 - binary_accuracy: 0.9730\n",
      "Epoch 35/60\n",
      "1446/1446 [==============================] - 0s 204us/step - loss: 0.3171 - binary_accuracy: 0.9806\n",
      "Epoch 36/60\n",
      "1446/1446 [==============================] - 0s 199us/step - loss: 0.3262 - binary_accuracy: 0.9758\n",
      "Epoch 37/60\n",
      "1446/1446 [==============================] - 0s 198us/step - loss: 0.3279 - binary_accuracy: 0.9765\n",
      "Epoch 00037: early stopping\n"
     ]
    }
   ],
   "source": [
    "np.random.seed(14)  # fix the random numbers generator state\n",
    "\n",
    "batch_size = 16\n",
    "input_shape = X_train.shape[1:]\n",
    "nb_epochs = 60\n",
    "nb_classes = 1\n",
    "dropout = 0.05\n",
    "early_stopping = EarlyStopping(monitor='loss', min_delta=0.01, patience=3, verbose=1)\n",
    "print('Build model...')\n",
    "\n",
    "model = Sequential()\n",
    "\n",
    "model.add(Dense(64, input_dim=400))\n",
    "# model.add(Activation('tanh'))\n",
    "model.add(LeakyReLU(alpha=0.01))\n",
    "# model.add(Dropout(dropout))\n",
    "# model.add(Dense(256))\n",
    "# model.add(LeakyReLU(alpha=0.01))\n",
    "# model.add(Activation('tanh'))\n",
    "model.add(Dropout(dropout))\n",
    "model.add(Dense(nb_classes))\n",
    "model.add(Activation('sigmoid'))\n",
    "\n",
    "model.compile(loss='binary_crossentropy', metrics=['binary_accuracy'], optimizer='adam')\n",
    "\n",
    "print(\"Train...\")\n",
    "history = model.fit(X_train, Y_train, batch_size=batch_size, epochs=nb_epochs, verbose=1, callbacks=[early_stopping])"
   ]
  },
  {
   "cell_type": "markdown",
   "metadata": {},
   "source": [
    "### Test the model performance"
   ]
  },
  {
   "cell_type": "code",
   "execution_count": 11,
   "metadata": {},
   "outputs": [
    {
     "name": "stdout",
     "output_type": "stream",
     "text": [
      "161/161 [==============================] - 0s 510us/step\n"
     ]
    },
    {
     "data": {
      "text/plain": [
       "[1.0921382282091223, 0.6708074534161491]"
      ]
     },
     "execution_count": 11,
     "metadata": {},
     "output_type": "execute_result"
    }
   ],
   "source": [
    "# Y_pred = model.predict(X_test)\n",
    "model.evaluate(X_test, Y_test)"
   ]
  },
  {
   "cell_type": "code",
   "execution_count": 12,
   "metadata": {},
   "outputs": [
    {
     "name": "stdout",
     "output_type": "stream",
     "text": [
      "Accuracy is 0.6708074534161491\n",
      "AUC is 0.7135802469135802\n",
      "F1-score is 0.6748466257668712\n"
     ]
    }
   ],
   "source": [
    "Y_pred = model.predict_proba(X_test)\n",
    "print('Accuracy is', accuracy_score(Y_test, np.round(Y_pred)))\n",
    "AUC = roc_auc_score(Y_test, Y_pred)\n",
    "print('AUC is', AUC)\n",
    "f1 = f1_score(Y_test, np.round(Y_pred))\n",
    "print('F1-score is', f1)"
   ]
  },
  {
   "cell_type": "markdown",
   "metadata": {},
   "source": [
    "### 10-fold cross-validation"
   ]
  },
  {
   "cell_type": "code",
   "execution_count": 21,
   "metadata": {
    "scrolled": true
   },
   "outputs": [
    {
     "name": "stdout",
     "output_type": "stream",
     "text": [
      "Build model...\n",
      "Train...\n",
      "Train on 1106 samples, validate on 196 samples\n",
      "Epoch 1/60\n",
      "1106/1106 [==============================] - 1s 872us/step - loss: 1.0066 - binary_accuracy: 0.5154 - val_loss: 1.2233 - val_binary_accuracy: 0.4898\n",
      "Epoch 2/60\n",
      "1106/1106 [==============================] - 0s 228us/step - loss: 0.8559 - binary_accuracy: 0.6311 - val_loss: 1.1975 - val_binary_accuracy: 0.4949\n",
      "Epoch 3/60\n",
      "1106/1106 [==============================] - 0s 225us/step - loss: 0.7877 - binary_accuracy: 0.6646 - val_loss: 1.2141 - val_binary_accuracy: 0.4898\n",
      "Epoch 4/60\n",
      "1106/1106 [==============================] - 0s 223us/step - loss: 0.7403 - binary_accuracy: 0.7269 - val_loss: 1.1917 - val_binary_accuracy: 0.5000\n",
      "Epoch 5/60\n",
      "1106/1106 [==============================] - 0s 226us/step - loss: 0.7096 - binary_accuracy: 0.7333 - val_loss: 1.2306 - val_binary_accuracy: 0.4796\n",
      "Epoch 6/60\n",
      "1106/1106 [==============================] - 0s 221us/step - loss: 0.6689 - binary_accuracy: 0.7749 - val_loss: 1.2304 - val_binary_accuracy: 0.4847\n",
      "Epoch 7/60\n",
      "1106/1106 [==============================] - 0s 213us/step - loss: 0.6393 - binary_accuracy: 0.7975 - val_loss: 1.2581 - val_binary_accuracy: 0.4949\n",
      "Epoch 00007: early stopping\n",
      "Accuracy is 0.5517241379310345\n",
      "AUC is 0.6071428571428572\n",
      "F1-score is 0.5517241379310344\n",
      "Train...\n",
      "Train on 1106 samples, validate on 196 samples\n",
      "Epoch 1/60\n",
      "1106/1106 [==============================] - 1s 861us/step - loss: 0.9191 - binary_accuracy: 0.4955 - val_loss: 1.2029 - val_binary_accuracy: 0.5102\n",
      "Epoch 2/60\n",
      "1106/1106 [==============================] - 0s 221us/step - loss: 0.7667 - binary_accuracy: 0.6392 - val_loss: 1.1712 - val_binary_accuracy: 0.5204\n",
      "Epoch 3/60\n",
      "1106/1106 [==============================] - 0s 221us/step - loss: 0.6722 - binary_accuracy: 0.7043 - val_loss: 1.1205 - val_binary_accuracy: 0.5408\n",
      "Epoch 4/60\n",
      "1106/1106 [==============================] - 0s 225us/step - loss: 0.6134 - binary_accuracy: 0.7514 - val_loss: 1.1886 - val_binary_accuracy: 0.5612\n",
      "Epoch 5/60\n",
      "1106/1106 [==============================] - 0s 222us/step - loss: 0.5768 - binary_accuracy: 0.7776 - val_loss: 1.1280 - val_binary_accuracy: 0.5765\n",
      "Epoch 6/60\n",
      "1106/1106 [==============================] - 0s 222us/step - loss: 0.5422 - binary_accuracy: 0.7794 - val_loss: 1.1312 - val_binary_accuracy: 0.5663\n",
      "Epoch 00006: early stopping\n",
      "Accuracy is 0.5448275862068965\n",
      "AUC is 0.574095238095238\n",
      "F1-score is 0.5975609756097562\n",
      "Train...\n",
      "Train on 1106 samples, validate on 196 samples\n",
      "Epoch 1/60\n",
      "1106/1106 [==============================] - 1s 887us/step - loss: 0.9795 - binary_accuracy: 0.5253 - val_loss: 1.2012 - val_binary_accuracy: 0.4643\n",
      "Epoch 2/60\n",
      "1106/1106 [==============================] - 0s 221us/step - loss: 0.8108 - binary_accuracy: 0.6203 - val_loss: 1.2279 - val_binary_accuracy: 0.4898\n",
      "Epoch 3/60\n",
      "1106/1106 [==============================] - 0s 222us/step - loss: 0.6799 - binary_accuracy: 0.7043 - val_loss: 1.2803 - val_binary_accuracy: 0.4694\n",
      "Epoch 4/60\n",
      "1106/1106 [==============================] - 0s 221us/step - loss: 0.6385 - binary_accuracy: 0.7315 - val_loss: 1.4322 - val_binary_accuracy: 0.4898\n",
      "Epoch 00004: early stopping\n",
      "Accuracy is 0.5724137931034483\n",
      "AUC is 0.594\n",
      "F1-score is 0.6075949367088607\n",
      "Train...\n",
      "Train on 1106 samples, validate on 196 samples\n",
      "Epoch 1/60\n",
      "1106/1106 [==============================] - 1s 904us/step - loss: 1.0735 - binary_accuracy: 0.5163 - val_loss: 1.2595 - val_binary_accuracy: 0.5204\n",
      "Epoch 2/60\n",
      "1106/1106 [==============================] - 0s 223us/step - loss: 0.9107 - binary_accuracy: 0.6058 - val_loss: 1.2945 - val_binary_accuracy: 0.5459\n",
      "Epoch 3/60\n",
      "1106/1106 [==============================] - 0s 223us/step - loss: 0.8507 - binary_accuracy: 0.6646 - val_loss: 1.3743 - val_binary_accuracy: 0.5612\n",
      "Epoch 4/60\n",
      "1106/1106 [==============================] - 0s 223us/step - loss: 0.8192 - binary_accuracy: 0.7260 - val_loss: 1.3688 - val_binary_accuracy: 0.5714\n",
      "Epoch 00004: early stopping\n",
      "Accuracy is 0.5448275862068965\n",
      "AUC is 0.5211428571428571\n",
      "F1-score is 0.5352112676056338\n",
      "Train...\n",
      "Train on 1106 samples, validate on 196 samples\n",
      "Epoch 1/60\n",
      "1106/1106 [==============================] - 1s 927us/step - loss: 1.0122 - binary_accuracy: 0.5443 - val_loss: 1.3751 - val_binary_accuracy: 0.4439\n",
      "Epoch 2/60\n",
      "1106/1106 [==============================] - 0s 223us/step - loss: 0.8250 - binary_accuracy: 0.6230 - val_loss: 1.4698 - val_binary_accuracy: 0.4439\n",
      "Epoch 3/60\n",
      "1106/1106 [==============================] - 0s 222us/step - loss: 0.7139 - binary_accuracy: 0.6700 - val_loss: 1.4891 - val_binary_accuracy: 0.4439\n",
      "Epoch 4/60\n",
      "1106/1106 [==============================] - 0s 222us/step - loss: 0.6564 - binary_accuracy: 0.7116 - val_loss: 1.4708 - val_binary_accuracy: 0.4847\n",
      "Epoch 00004: early stopping\n",
      "Accuracy is 0.5310344827586206\n",
      "AUC is 0.5348571428571429\n",
      "F1-score is 0.5526315789473684\n",
      "Train...\n",
      "Train on 1106 samples, validate on 196 samples\n",
      "Epoch 1/60\n",
      "1106/1106 [==============================] - 1s 946us/step - loss: 1.0328 - binary_accuracy: 0.5136 - val_loss: 1.3284 - val_binary_accuracy: 0.4490\n",
      "Epoch 2/60\n",
      "1106/1106 [==============================] - 0s 226us/step - loss: 0.9190 - binary_accuracy: 0.6293 - val_loss: 1.6372 - val_binary_accuracy: 0.4541\n",
      "Epoch 3/60\n",
      "1106/1106 [==============================] - 0s 226us/step - loss: 0.8522 - binary_accuracy: 0.6637 - val_loss: 1.6065 - val_binary_accuracy: 0.4643\n",
      "Epoch 4/60\n",
      "1106/1106 [==============================] - 0s 225us/step - loss: 0.7210 - binary_accuracy: 0.7324 - val_loss: 1.5145 - val_binary_accuracy: 0.5153\n",
      "Epoch 00004: early stopping\n",
      "Accuracy is 0.5448275862068965\n",
      "AUC is 0.5843809523809524\n",
      "F1-score is 0.5822784810126581\n",
      "Train...\n",
      "Train on 1106 samples, validate on 196 samples\n",
      "Epoch 1/60\n",
      "1106/1106 [==============================] - 1s 972us/step - loss: 0.9418 - binary_accuracy: 0.5208 - val_loss: 1.3909 - val_binary_accuracy: 0.4796\n",
      "Epoch 2/60\n",
      "1106/1106 [==============================] - 0s 231us/step - loss: 0.7372 - binary_accuracy: 0.6230 - val_loss: 1.5429 - val_binary_accuracy: 0.5051\n",
      "Epoch 3/60\n",
      "1106/1106 [==============================] - 0s 233us/step - loss: 0.7054 - binary_accuracy: 0.6944 - val_loss: 1.5767 - val_binary_accuracy: 0.5051\n",
      "Epoch 4/60\n",
      "1106/1106 [==============================] - 0s 226us/step - loss: 0.6517 - binary_accuracy: 0.7152 - val_loss: 1.6040 - val_binary_accuracy: 0.4898\n",
      "Epoch 00004: early stopping\n",
      "Accuracy is 0.5586206896551724\n",
      "AUC is 0.5427619047619047\n",
      "F1-score is 0.5844155844155844\n",
      "Train...\n",
      "Train on 1106 samples, validate on 196 samples\n",
      "Epoch 1/60\n",
      "1106/1106 [==============================] - 1s 991us/step - loss: 1.0031 - binary_accuracy: 0.5118 - val_loss: 1.1672 - val_binary_accuracy: 0.5000\n",
      "Epoch 2/60\n",
      "1106/1106 [==============================] - 0s 226us/step - loss: 0.7943 - binary_accuracy: 0.6293 - val_loss: 1.2543 - val_binary_accuracy: 0.4898\n",
      "Epoch 3/60\n",
      "1106/1106 [==============================] - 0s 228us/step - loss: 0.7588 - binary_accuracy: 0.6844 - val_loss: 1.3438 - val_binary_accuracy: 0.5051\n",
      "Epoch 4/60\n",
      "1106/1106 [==============================] - 0s 231us/step - loss: 0.6916 - binary_accuracy: 0.7342 - val_loss: 1.3419 - val_binary_accuracy: 0.5102\n",
      "Epoch 00004: early stopping\n",
      "Accuracy is 0.5586206896551724\n",
      "AUC is 0.6150476190476191\n",
      "F1-score is 0.6144578313253011\n",
      "Train...\n",
      "Train on 1107 samples, validate on 196 samples\n",
      "Epoch 1/60\n",
      "1107/1107 [==============================] - 1s 1ms/step - loss: 0.9712 - binary_accuracy: 0.5059 - val_loss: 1.3088 - val_binary_accuracy: 0.4898\n",
      "Epoch 2/60\n",
      "1107/1107 [==============================] - 0s 230us/step - loss: 0.8144 - binary_accuracy: 0.6323 - val_loss: 1.3160 - val_binary_accuracy: 0.5204\n",
      "Epoch 3/60\n",
      "1107/1107 [==============================] - 0s 229us/step - loss: 0.7328 - binary_accuracy: 0.6703 - val_loss: 1.3582 - val_binary_accuracy: 0.5153\n",
      "Epoch 4/60\n",
      "1107/1107 [==============================] - 0s 226us/step - loss: 0.6871 - binary_accuracy: 0.7046 - val_loss: 1.3580 - val_binary_accuracy: 0.4643\n",
      "Epoch 00004: early stopping\n",
      "Accuracy is 0.5416666666666666\n",
      "AUC is 0.5926640926640926\n",
      "F1-score is 0.5657894736842106\n",
      "Train...\n",
      "Train on 1108 samples, validate on 196 samples\n",
      "Epoch 1/60\n",
      "1108/1108 [==============================] - 1s 1ms/step - loss: 1.0185 - binary_accuracy: 0.5135 - val_loss: 1.3010 - val_binary_accuracy: 0.4796\n",
      "Epoch 2/60\n",
      "1108/1108 [==============================] - 0s 229us/step - loss: 0.8438 - binary_accuracy: 0.6236 - val_loss: 1.3686 - val_binary_accuracy: 0.5051\n",
      "Epoch 3/60\n",
      "1108/1108 [==============================] - 0s 227us/step - loss: 0.7371 - binary_accuracy: 0.6823 - val_loss: 1.3898 - val_binary_accuracy: 0.5153\n",
      "Epoch 4/60\n",
      "1108/1108 [==============================] - 0s 229us/step - loss: 0.7111 - binary_accuracy: 0.7347 - val_loss: 1.4211 - val_binary_accuracy: 0.5357\n",
      "Epoch 00004: early stopping\n",
      "Accuracy is 0.6013986013986014\n",
      "AUC is 0.6108499804151977\n",
      "F1-score is 0.5957446808510638\n",
      "Accuracy:  55.499618197894065\n",
      "AUC:  0.5776942644507862\n",
      "f1-score:  0.5787408948091471\n"
     ]
    }
   ],
   "source": [
    "# fix random seed for reproducibility\n",
    "seed = 7\n",
    "# define 10-fold cross validation test harness\n",
    "kfold = StratifiedKFold(n_splits=10, shuffle=True, random_state=seed)\n",
    "acc_list = []\n",
    "AUC_list = []\n",
    "f1_list = []\n",
    "loss = []\n",
    "\n",
    "batch_size = 16\n",
    "input_shape = X_train.shape[1:]\n",
    "nb_epochs = 60\n",
    "nb_classes = 1\n",
    "dropout = 0.05\n",
    "print('Build model...')\n",
    "early_stopping = EarlyStopping(monitor='val_loss', min_delta=0.001, patience=3, verbose=1)\n",
    "\n",
    "X = X_train\n",
    "Y = Y_train\n",
    "\n",
    "for train, test in kfold.split(X, Y):\n",
    "    \n",
    "    X_train = X[train]\n",
    "    Y_train = Y[train]\n",
    "    X_test = X[test]\n",
    "    Y_test = Y[test]\n",
    "    \n",
    "    # added flip of the training data\n",
    "#     extend_x = np.flip(X_train, axis=1)\n",
    "#     extend_y = Y_train\n",
    "\n",
    "#     X_train = np.concatenate((X_train, extend_x), axis=0)\n",
    "#     Y_train = np.concatenate((Y_train, extend_y), axis=0)\n",
    "    \n",
    "    model = Sequential()\n",
    "\n",
    "    model.add(Dense(64, input_dim=400))\n",
    "    # model.add(Activation('tanh'))\n",
    "    model.add(LeakyReLU(alpha=0.01))\n",
    "    # model.add(Dropout(dropout))\n",
    "    # model.add(Dense(256))\n",
    "    # model.add(LeakyReLU(alpha=0.01))\n",
    "    # model.add(Activation('tanh'))\n",
    "    model.add(Dropout(dropout))\n",
    "    model.add(Dense(nb_classes))\n",
    "    model.add(Activation('sigmoid'))\n",
    "\n",
    "    model.compile(loss='binary_crossentropy', metrics=['binary_accuracy'], optimizer='adam')\n",
    "\n",
    "    print(\"Train...\")\n",
    "    history = model.fit(X_train, Y_train, batch_size=batch_size, epochs=nb_epochs, verbose=1, callbacks=[early_stopping],\n",
    "                       validation_split=0.15)\n",
    "\n",
    "    Y_pred = model.predict_proba(X_test)\n",
    "    acc = accuracy_score(Y_test, np.round(Y_pred))\n",
    "    print('Accuracy is', acc)\n",
    "    AUC = roc_auc_score(Y_test, Y_pred)\n",
    "    print('AUC is', AUC)\n",
    "    f1 = f1_score(Y_test, np.round(Y_pred))\n",
    "    print('F1-score is', f1)\n",
    "    \n",
    "    acc_list.append(acc)\n",
    "    AUC_list.append(AUC)\n",
    "    f1_list.append(f1)\n",
    "    loss.append(np.mean(history.history['val_loss']))\n",
    "    \n",
    "print('Accuracy: ', np.mean(acc_list)*100)\n",
    "print('AUC: ', np.mean(AUC_list))\n",
    "print('f1-score: ', np.mean(f1_list))\n"
   ]
  },
  {
   "cell_type": "code",
   "execution_count": 22,
   "metadata": {},
   "outputs": [
    {
     "data": {
      "text/plain": [
       "[0.6071428571428572,\n",
       " 0.574095238095238,\n",
       " 0.594,\n",
       " 0.5211428571428571,\n",
       " 0.5348571428571429,\n",
       " 0.5843809523809524,\n",
       " 0.5427619047619047,\n",
       " 0.6150476190476191,\n",
       " 0.5926640926640926,\n",
       " 0.6108499804151977]"
      ]
     },
     "execution_count": 22,
     "metadata": {},
     "output_type": "execute_result"
    }
   ],
   "source": [
    "# MLP cross-validation\n",
    "AUC_list"
   ]
  },
  {
   "cell_type": "code",
   "execution_count": 26,
   "metadata": {},
   "outputs": [],
   "source": [
    "import matplotlib\n",
    "from matplotlib import pyplot as plt\n",
    "font = {'family' : 'normal',\n",
    "        'weight' : 'normal',\n",
    "        'size'   : 16}\n",
    "\n",
    "matplotlib.rc('font', **font)"
   ]
  },
  {
   "cell_type": "code",
   "execution_count": 29,
   "metadata": {},
   "outputs": [
    {
     "name": "stderr",
     "output_type": "stream",
     "text": [
      "/lyceum/ao2u17/.conda/envs/keras_env/lib/python3.6/site-packages/matplotlib/font_manager.py:1328: UserWarning: findfont: Font family ['normal'] not found. Falling back to DejaVu Sans\n",
      "  (prop.get_family(), self.defaultFamily[fontext]))\n"
     ]
    },
    {
     "data": {
      "image/png": "[encoded data removed]",
      "text/plain": [
       "<Figure size 504x360 with 1 Axes>"
      ]
     },
     "metadata": {},
     "output_type": "display_data"
    }
   ],
   "source": [
    "from matplotlib.ticker import FormatStrFormatter\n",
    "fig, ax = plt.subplots(figsize=(7, 5))\n",
    "ax.yaxis.set_major_formatter(FormatStrFormatter('%.2f'))\n",
    "# plt.scatter([1 for i in AUC_list], AUC_list)\n",
    "plt.boxplot(AUC_list)\n",
    "\n",
    "bars = ['MLP']\n",
    "y_pos = [1]\n",
    "plt.ylabel('AUC')\n",
    "plt.xticks(y_pos, bars)\n",
    "plt.grid()\n",
    "plt.ylim((0.5, 0.7))\n",
    "# plt.xlim((0.25, 0.75))\n",
    "plt.savefig('graphs/mlp_auc.png')\n",
    "plt.show()\n"
   ]
  },
  {
   "cell_type": "code",
   "execution_count": null,
   "metadata": {},
   "outputs": [],
   "source": []
  }
 ],
 "metadata": {
  "kernelspec": {
   "display_name": "Python 3",
   "language": "python",
   "name": "python3"
  },
  "language_info": {
   "codemirror_mode": {
    "name": "ipython",
    "version": 3
   },
   "file_extension": ".py",
   "mimetype": "text/x-python",
   "name": "python",
   "nbconvert_exporter": "python",
   "pygments_lexer": "ipython3",
   "version": "3.6.5"
  }
 },
 "nbformat": 4,
 "nbformat_minor": 2
}
