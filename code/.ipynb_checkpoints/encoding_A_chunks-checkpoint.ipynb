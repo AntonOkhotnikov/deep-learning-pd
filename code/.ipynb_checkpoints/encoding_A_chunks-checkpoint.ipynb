{
 "cells": [
  {
   "cell_type": "markdown",
   "metadata": {},
   "source": [
    "## PD_MIT-CS1PD dataset"
   ]
  },
  {
   "cell_type": "markdown",
   "metadata": {},
   "source": [
    "### Ground truth loading"
   ]
  },
  {
   "cell_type": "code",
   "execution_count": 161,
   "metadata": {},
   "outputs": [],
   "source": [
    "import pandas as pd\n",
    "import numpy as np\n",
    "import matplotlib.pyplot as plt\n",
    "import nqDataLoader as nq  #data loading library\n",
    "from sklearn.model_selection import train_test_split\n",
    "import h5py"
   ]
  },
  {
   "cell_type": "markdown",
   "metadata": {},
   "source": [
    "### Load all the files"
   ]
  },
  {
   "cell_type": "code",
   "execution_count": 162,
   "metadata": {},
   "outputs": [],
   "source": [
    "# load ground Ground Truth \n",
    "cs1PdFr = pd.read_csv( 'MIT-CS1PD/GT_DataPD_MIT-CS1PD.csv' )\n",
    "# set Patient ID as index\n",
    "cs1PdFr = cs1PdFr.set_index('pID')\n",
    "# load ground Ground Truth \n",
    "cs2PdFr = pd.read_csv( 'MIT-CS2PD/GT_DataPD_MIT-CS2PD.csv' )\n",
    "# set Patient ID as index\n",
    "cs2PdFr = cs2PdFr.set_index('pID')\n",
    "# show part of Data Frame\n",
    "# cs2PdFr.head()"
   ]
  },
  {
   "cell_type": "code",
   "execution_count": 163,
   "metadata": {
    "scrolled": true
   },
   "outputs": [],
   "source": [
    "filenames = ['file_1', 'file_2']\n",
    "patients = pd.DataFrame(columns=['id', 'hold', 'label'])\n",
    "def load_all(record):\n",
    "    global filenames, patients\n",
    "    name = record.name\n",
    "    \n",
    "    arr = np.empty(shape=(0, 0))\n",
    "    arr_press = np.empty(shape=(0, 0))\n",
    "    arr_release = np.empty(shape=(0, 0))\n",
    "    keyp = pd.Series()\n",
    "    for filename in filenames:\n",
    "        keyPressed, htArr, pressArr, releaseArr = \\\n",
    "                nq.getDataFiltHelper( 'MIT-CS1PD/data_MIT-CS1PD/' + cs1PdFr.loc[name][filename])\n",
    "        arr = np.append(arr, htArr)\n",
    "        arr_press = np.append(arr_press, pressArr)\n",
    "        arr_release = np.append(arr_release, releaseArr)\n",
    "        keyp = keyp.append(pd.Series(keyPressed))\n",
    "        \n",
    "    patients = patients.append({'id': name, 'hold': arr, 'key': keyp, 'label': record['gt'], 'press': arr_press, \n",
    "                               'release': arr_release}, ignore_index=True)\n",
    "    return True\n",
    "\n",
    "def load_all_d2(record):\n",
    "    global patients\n",
    "    filenames = ['file_1']\n",
    "    name = record.name\n",
    "    \n",
    "    arr = np.empty(shape=(0, 0))\n",
    "    arr_press = np.empty(shape=(0, 0))\n",
    "    arr_release = np.empty(shape=(0, 0))\n",
    "    keyp = pd.Series()\n",
    "    for filename in filenames:\n",
    "        keyPressed, htArr, pressArr, releaseArr = \\\n",
    "                nq.getDataFiltHelper( 'MIT-CS2PD/data_MIT-CS2PD/' + cs2PdFr.loc[name][filename])\n",
    "        arr = np.append(arr, htArr)\n",
    "        arr_press = np.append(arr_press, pressArr)\n",
    "        arr_release = np.append(arr_release, releaseArr)\n",
    "        keyp = keyp.append(pd.Series(keyPressed))\n",
    "        \n",
    "    patients = patients.append({'id': name, 'hold': arr, 'key': keyp, 'label': record['gt'], 'press': arr_press, \n",
    "                               'release': arr_release}, ignore_index=True)\n",
    "    return True\n",
    "\n",
    "def remove_quotes(row):    \n",
    "    return list(row.apply(lambda x: x.replace('\"', '')))\n",
    "\n",
    "    \n",
    "tmp = cs1PdFr.apply(lambda x: load_all(x), axis=1)\n",
    "tmp = cs2PdFr.apply(lambda x: load_all_d2(x), axis=1)\n",
    "\n",
    "patients.set_index('id', inplace=True)\n",
    "\n",
    "patients['key'] = patients['key'].apply(lambda x: remove_quotes(x))"
   ]
  },
  {
   "cell_type": "markdown",
   "metadata": {},
   "source": [
    "### Encoding A"
   ]
  },
  {
   "cell_type": "code",
   "execution_count": 164,
   "metadata": {},
   "outputs": [],
   "source": [
    "frequency = 100  # Hz"
   ]
  },
  {
   "cell_type": "code",
   "execution_count": 165,
   "metadata": {},
   "outputs": [
    {
     "data": {
      "text/html": [
       "<div>\n",
       "<style scoped>\n",
       "    .dataframe tbody tr th:only-of-type {\n",
       "        vertical-align: middle;\n",
       "    }\n",
       "\n",
       "    .dataframe tbody tr th {\n",
       "        vertical-align: top;\n",
       "    }\n",
       "\n",
       "    .dataframe thead th {\n",
       "        text-align: right;\n",
       "    }\n",
       "</style>\n",
       "<table border=\"1\" class=\"dataframe\">\n",
       "  <thead>\n",
       "    <tr style=\"text-align: right;\">\n",
       "      <th></th>\n",
       "      <th>hold</th>\n",
       "      <th>label</th>\n",
       "      <th>key</th>\n",
       "      <th>press</th>\n",
       "      <th>release</th>\n",
       "    </tr>\n",
       "    <tr>\n",
       "      <th>id</th>\n",
       "      <th></th>\n",
       "      <th></th>\n",
       "      <th></th>\n",
       "      <th></th>\n",
       "      <th></th>\n",
       "    </tr>\n",
       "  </thead>\n",
       "  <tbody>\n",
       "    <tr>\n",
       "      <th>11</th>\n",
       "      <td>[0.1713, 0.1432, 0.0655, 0.1188, 0.0737, 0.065...</td>\n",
       "      <td>True</td>\n",
       "      <td>[a, b, i, a, space, u, n, a, space, v, e, a, s...</td>\n",
       "      <td>[2.4568, 2.7748, 2.9139, 3.0805, 3.1564, 3.435...</td>\n",
       "      <td>[2.6281, 2.918, 2.9794, 3.1992, 3.2301, 3.5004...</td>\n",
       "    </tr>\n",
       "    <tr>\n",
       "      <th>60</th>\n",
       "      <td>[0.0895, 0.0954, 0.1738, 0.1078, 0.166, 0.1361...</td>\n",
       "      <td>False</td>\n",
       "      <td>[d, e, l, space, e, n, f, a, d, o, space, l, e...</td>\n",
       "      <td>[2.6084, 2.8721, 3.9054, 5.2092, 5.893, 6.3525...</td>\n",
       "      <td>[2.6979, 2.9675, 4.0792, 5.317, 6.0589, 6.4886...</td>\n",
       "    </tr>\n",
       "    <tr>\n",
       "      <th>67</th>\n",
       "      <td>[0.1119, 0.1345, 0.3396, 0.1883, 0.1592, 0.134...</td>\n",
       "      <td>True</td>\n",
       "      <td>[f, u, e, space, r, e, c, o, g, i, d, o, space...</td>\n",
       "      <td>[1.3361, 1.9241, 2.6734, 3.1709, 3.6996, 4.082...</td>\n",
       "      <td>[1.4481, 2.0585, 3.0129, 3.3591, 3.8588, 4.217...</td>\n",
       "    </tr>\n",
       "    <tr>\n",
       "      <th>68</th>\n",
       "      <td>[0.1194, 0.1337, 0.1847, 0.1499, 0.2137, 0.164...</td>\n",
       "      <td>False</td>\n",
       "      <td>[n, t, e, r, o, comma, space, q, u, e, space, ...</td>\n",
       "      <td>[1.8314, 2.4218, 2.8949, 3.2413, 3.9616, 6.467...</td>\n",
       "      <td>[1.9508, 2.5555, 3.0796, 3.3912, 4.1754, 6.631...</td>\n",
       "    </tr>\n",
       "    <tr>\n",
       "      <th>70</th>\n",
       "      <td>[0.1528, 0.208, 0.2084, 0.1539, 0.177, 0.2055,...</td>\n",
       "      <td>True</td>\n",
       "      <td>[period, l, a, space, p, s, a, d, e, r, a, spa...</td>\n",
       "      <td>[0.6356, 6.0042, 6.4526, 8.0744, 9.0555, 9.484...</td>\n",
       "      <td>[0.7884, 6.2122, 6.661, 8.2283, 9.2325, 9.6897...</td>\n",
       "    </tr>\n",
       "  </tbody>\n",
       "</table>\n",
       "</div>"
      ],
      "text/plain": [
       "                                                 hold  label  \\\n",
       "id                                                             \n",
       "11  [0.1713, 0.1432, 0.0655, 0.1188, 0.0737, 0.065...   True   \n",
       "60  [0.0895, 0.0954, 0.1738, 0.1078, 0.166, 0.1361...  False   \n",
       "67  [0.1119, 0.1345, 0.3396, 0.1883, 0.1592, 0.134...   True   \n",
       "68  [0.1194, 0.1337, 0.1847, 0.1499, 0.2137, 0.164...  False   \n",
       "70  [0.1528, 0.208, 0.2084, 0.1539, 0.177, 0.2055,...   True   \n",
       "\n",
       "                                                  key  \\\n",
       "id                                                      \n",
       "11  [a, b, i, a, space, u, n, a, space, v, e, a, s...   \n",
       "60  [d, e, l, space, e, n, f, a, d, o, space, l, e...   \n",
       "67  [f, u, e, space, r, e, c, o, g, i, d, o, space...   \n",
       "68  [n, t, e, r, o, comma, space, q, u, e, space, ...   \n",
       "70  [period, l, a, space, p, s, a, d, e, r, a, spa...   \n",
       "\n",
       "                                                press  \\\n",
       "id                                                      \n",
       "11  [2.4568, 2.7748, 2.9139, 3.0805, 3.1564, 3.435...   \n",
       "60  [2.6084, 2.8721, 3.9054, 5.2092, 5.893, 6.3525...   \n",
       "67  [1.3361, 1.9241, 2.6734, 3.1709, 3.6996, 4.082...   \n",
       "68  [1.8314, 2.4218, 2.8949, 3.2413, 3.9616, 6.467...   \n",
       "70  [0.6356, 6.0042, 6.4526, 8.0744, 9.0555, 9.484...   \n",
       "\n",
       "                                              release  \n",
       "id                                                     \n",
       "11  [2.6281, 2.918, 2.9794, 3.1992, 3.2301, 3.5004...  \n",
       "60  [2.6979, 2.9675, 4.0792, 5.317, 6.0589, 6.4886...  \n",
       "67  [1.4481, 2.0585, 3.0129, 3.3591, 3.8588, 4.217...  \n",
       "68  [1.9508, 2.5555, 3.0796, 3.3912, 4.1754, 6.631...  \n",
       "70  [0.7884, 6.2122, 6.661, 8.2283, 9.2325, 9.6897...  "
      ]
     },
     "execution_count": 165,
     "metadata": {},
     "output_type": "execute_result"
    }
   ],
   "source": [
    "patients.head()"
   ]
  },
  {
   "cell_type": "markdown",
   "metadata": {},
   "source": [
    "### Encode all patients"
   ]
  },
  {
   "cell_type": "code",
   "execution_count": 166,
   "metadata": {
    "scrolled": true
   },
   "outputs": [
    {
     "data": {
      "text/plain": [
       "1747.0699"
      ]
     },
     "execution_count": 166,
     "metadata": {},
     "output_type": "execute_result"
    }
   ],
   "source": [
    "'''code here returns\n",
    "   the length of longest series (in seconds)\n",
    "'''\n",
    "# np.array(range(maxlen*freq)) / freq\n",
    "def find_max(array):\n",
    "    return array[-1]\n",
    "\n",
    "max(patients['release'].apply(lambda x: find_max(x)))  # biggest release time value is 1747 seconds"
   ]
  },
  {
   "cell_type": "code",
   "execution_count": 167,
   "metadata": {
    "scrolled": true
   },
   "outputs": [],
   "source": [
    "# maxlen = 1750  # this is now standard length for all the files (in seconds)\n",
    "# timestep = np.arange(start=0, stop=maxlen, step=np.float(1.0/frequency))\n",
    "\n",
    "def encode(patient, freq=frequency):\n",
    "    n_decimals = int(np.log10(freq))\n",
    "    timestep = np.arange(start=0, stop=int(patient['release'][-1]), step=np.float(1.0/frequency))\n",
    "    sample = np.zeros((timestep.shape[0], 1))\n",
    "    patient['press'] = np.round_(patient['press'], decimals=n_decimals)\n",
    "    patient['hold'] = np.round_(patient['hold'], decimals=n_decimals)\n",
    "    patient['release'] = np.round_(patient['release'], decimals=n_decimals)\n",
    "    \n",
    "    for idx in range(patient['hold'].shape[0]):\n",
    "        start = patient['press'][idx]\n",
    "        finish = patient['release'][idx]\n",
    "        \n",
    "        size_of_insert = int(np.round_((finish - start) * freq, decimals=n_decimals))\n",
    "        start_id = int(start * (10 ** n_decimals))\n",
    "        \n",
    "        try:\n",
    "            sample[start_id: start_id + size_of_insert] = np.ones((size_of_insert, 1))\n",
    "        except:\n",
    "            sample = np.concatenate((sample, np.zeros((start_id + size_of_insert - sample.shape[0], 1))))\n",
    "            sample[start_id: start_id + size_of_insert] = np.ones((size_of_insert, 1))\n",
    "    return {'encoded': sample, 'label': patient['label']}\n",
    "\n",
    "def enc_table(table):\n",
    "    \n",
    "    return table.apply(lambda x: encode(x), axis=1)\n",
    "\n",
    "# patients['encoded'] = patients.apply(lambda x: encode(x), axis=1)\n",
    "X_train = pd.DataFrame(enc_table(patients))\n",
    "X_train = X_train[0].apply(pd.Series)\n",
    "X_train['label'] = X_train['label'].astype(int)"
   ]
  },
  {
   "cell_type": "code",
   "execution_count": 168,
   "metadata": {},
   "outputs": [
    {
     "name": "stdout",
     "output_type": "stream",
     "text": [
      "(85, 2)\n"
     ]
    },
    {
     "data": {
      "text/html": [
       "<div>\n",
       "<style scoped>\n",
       "    .dataframe tbody tr th:only-of-type {\n",
       "        vertical-align: middle;\n",
       "    }\n",
       "\n",
       "    .dataframe tbody tr th {\n",
       "        vertical-align: top;\n",
       "    }\n",
       "\n",
       "    .dataframe thead th {\n",
       "        text-align: right;\n",
       "    }\n",
       "</style>\n",
       "<table border=\"1\" class=\"dataframe\">\n",
       "  <thead>\n",
       "    <tr style=\"text-align: right;\">\n",
       "      <th></th>\n",
       "      <th>encoded</th>\n",
       "      <th>label</th>\n",
       "    </tr>\n",
       "    <tr>\n",
       "      <th>id</th>\n",
       "      <th></th>\n",
       "      <th></th>\n",
       "    </tr>\n",
       "  </thead>\n",
       "  <tbody>\n",
       "    <tr>\n",
       "      <th>11</th>\n",
       "      <td>[[0.0], [0.0], [0.0], [0.0], [0.0], [0.0], [0....</td>\n",
       "      <td>1</td>\n",
       "    </tr>\n",
       "    <tr>\n",
       "      <th>60</th>\n",
       "      <td>[[0.0], [0.0], [0.0], [0.0], [0.0], [0.0], [0....</td>\n",
       "      <td>0</td>\n",
       "    </tr>\n",
       "    <tr>\n",
       "      <th>67</th>\n",
       "      <td>[[0.0], [0.0], [0.0], [0.0], [0.0], [0.0], [0....</td>\n",
       "      <td>1</td>\n",
       "    </tr>\n",
       "    <tr>\n",
       "      <th>68</th>\n",
       "      <td>[[0.0], [0.0], [0.0], [0.0], [0.0], [0.0], [0....</td>\n",
       "      <td>0</td>\n",
       "    </tr>\n",
       "    <tr>\n",
       "      <th>70</th>\n",
       "      <td>[[0.0], [0.0], [0.0], [0.0], [0.0], [0.0], [0....</td>\n",
       "      <td>1</td>\n",
       "    </tr>\n",
       "  </tbody>\n",
       "</table>\n",
       "</div>"
      ],
      "text/plain": [
       "                                              encoded  label\n",
       "id                                                          \n",
       "11  [[0.0], [0.0], [0.0], [0.0], [0.0], [0.0], [0....      1\n",
       "60  [[0.0], [0.0], [0.0], [0.0], [0.0], [0.0], [0....      0\n",
       "67  [[0.0], [0.0], [0.0], [0.0], [0.0], [0.0], [0....      1\n",
       "68  [[0.0], [0.0], [0.0], [0.0], [0.0], [0.0], [0....      0\n",
       "70  [[0.0], [0.0], [0.0], [0.0], [0.0], [0.0], [0....      1"
      ]
     },
     "execution_count": 168,
     "metadata": {},
     "output_type": "execute_result"
    }
   ],
   "source": [
    "print(X_train.shape)\n",
    "X_train.head()"
   ]
  },
  {
   "cell_type": "code",
   "execution_count": 169,
   "metadata": {},
   "outputs": [
    {
     "data": {
      "image/png": "[encoded data removed]",
      "text/plain": [
       "<Figure size 432x288 with 1 Axes>"
      ]
     },
     "metadata": {},
     "output_type": "display_data"
    }
   ],
   "source": [
    "plt.plot(X_train['encoded'].iloc[0])\n",
    "# np.log10(frequency)\n",
    "plt.xlim((0, 300))\n",
    "plt.show()"
   ]
  },
  {
   "cell_type": "code",
   "execution_count": 170,
   "metadata": {},
   "outputs": [
    {
     "data": {
      "text/plain": [
       "array([[0.],\n",
       "       [0.],\n",
       "       [0.],\n",
       "       ...,\n",
       "       [1.],\n",
       "       [1.],\n",
       "       [1.]])"
      ]
     },
     "execution_count": 170,
     "metadata": {},
     "output_type": "execute_result"
    }
   ],
   "source": [
    "X_train['encoded'].iloc[0]"
   ]
  },
  {
   "cell_type": "markdown",
   "metadata": {},
   "source": [
    "### Chunk time series"
   ]
  },
  {
   "cell_type": "code",
   "execution_count": 171,
   "metadata": {},
   "outputs": [],
   "source": [
    "def chunk_one_patient(series, size, overlap):\n",
    "    arr = np.array(chunk_array(series['encoded'], size, overlap))\n",
    "    target = np.array([series['label'] for i in range(arr.shape[0])])\n",
    "    return [arr, target]\n",
    "\n",
    "def chunk_array(array, size, overlap):\n",
    "#     print(array.shape)\n",
    "    gen = gen_split_overlap(array, size, overlap)\n",
    "    \n",
    "    result = []\n",
    "    for arr in gen:\n",
    "        # if it's the last arr add zeros (if it's 0.7 of size)\n",
    "        if arr.shape[0] != size:\n",
    "            if np.float(arr.shape[0]) / np.float(size) >= 0.7:\n",
    "                arr = np.concatenate((arr, np.zeros((size - arr.shape[0], 1))))\n",
    "            else:\n",
    "                continue\n",
    "        \n",
    "        result.append(arr)\n",
    "#         print(arr.shape)\n",
    "    return result\n",
    "    \n",
    "\n",
    "def gen_split_overlap(seq, size, overlap):\n",
    "    if size < 1 or overlap < 0:\n",
    "        raise ValueError('size must be >= 1 and overlap >= 0')\n",
    "\n",
    "    for i in range(0, len(seq) - overlap, size - overlap):            \n",
    "        yield seq[i: i + size]"
   ]
  },
  {
   "cell_type": "code",
   "execution_count": 172,
   "metadata": {},
   "outputs": [],
   "source": [
    "chunk_size = 200  # number of data points in one chunk\n",
    "overlap = 0.4     # overlapping between chunks in percents of chunk_size\n",
    "overlap = int(overlap*chunk_size)\n",
    "\n",
    "# one_patient = chunk_one_patient(X_train.iloc[0], chunk_size, overlap)\n",
    "# one_patient = one_patient.transpose()\n",
    "# one_patient.rename(columns={0: \"data\", 1: \"part\", 2: 'row', 3: 'target'})\n",
    "\n",
    "res_df = pd.DataFrame()\n",
    "res_df = X_train.apply(lambda x: chunk_one_patient(x, chunk_size, overlap), axis=1)\n",
    "res_df = pd.DataFrame(res_df.apply(pd.Series))\n",
    "res_df = res_df.rename(columns={0: \"data\", 1: \"target\"})"
   ]
  },
  {
   "cell_type": "code",
   "execution_count": 173,
   "metadata": {},
   "outputs": [
    {
     "name": "stdout",
     "output_type": "stream",
     "text": [
      "('X_train shape', (61696, 200, 1))\n",
      "('Y_train shape', (61696,))\n"
     ]
    }
   ],
   "source": [
    "# Concatenate rows all together\n",
    "train_set = np.array((0, 0, 0))\n",
    "target_set = np.array(0)\n",
    "\n",
    "def concat_train(row):\n",
    "    global train_set\n",
    "    try: \n",
    "        train_set.shape[0]\n",
    "        train_set = np.concatenate([train_set, row])\n",
    "    except:\n",
    "        train_set = row\n",
    "\n",
    "def concat_target(row):\n",
    "    global target_set\n",
    "    try: \n",
    "        target_set.shape[0]\n",
    "        target_set = np.concatenate([target_set, row])\n",
    "    except:\n",
    "        target_set = row\n",
    "        \n",
    "tmp = res_df['data'].apply(lambda x: concat_train(x))\n",
    "tmp = res_df['target'].apply(lambda x: concat_target(x))\n",
    "\n",
    "\n",
    "print('X_train shape', train_set.shape)\n",
    "print('Y_train shape', target_set.shape)"
   ]
  },
  {
   "cell_type": "markdown",
   "metadata": {},
   "source": [
    "### Split training and testing instances"
   ]
  },
  {
   "cell_type": "code",
   "execution_count": 174,
   "metadata": {},
   "outputs": [],
   "source": [
    "# X_train, X_test, Y_train, Y_test = train_test_split(X_train, Y_train, test_size=0.1, random_state=15)"
   ]
  },
  {
   "cell_type": "code",
   "execution_count": 175,
   "metadata": {},
   "outputs": [],
   "source": [
    "target_set = target_set.astype(int)"
   ]
  },
  {
   "cell_type": "markdown",
   "metadata": {},
   "source": [
    "### Save data"
   ]
  },
  {
   "cell_type": "code",
   "execution_count": 176,
   "metadata": {},
   "outputs": [],
   "source": [
    "h5f = h5py.File('encoding_A_freq{freq}_chunks{size}.h5'.format(freq=frequency, size=chunk_size), 'w')\n",
    "h5f.create_dataset('train', data=train_set)\n",
    "h5f.create_dataset('target', data=target_set)\n",
    "h5f.close()"
   ]
  },
  {
   "cell_type": "code",
   "execution_count": null,
   "metadata": {},
   "outputs": [],
   "source": []
  }
 ],
 "metadata": {
  "kernelspec": {
   "display_name": "Python 2",
   "language": "python",
   "name": "python2"
  },
  "language_info": {
   "codemirror_mode": {
    "name": "ipython",
    "version": 3
   },
   "file_extension": ".py",
   "mimetype": "text/x-python",
   "name": "python",
   "nbconvert_exporter": "python",
   "pygments_lexer": "ipython3",
   "version": "3.6.5"
  }
 },
 "nbformat": 4,
 "nbformat_minor": 1
}
