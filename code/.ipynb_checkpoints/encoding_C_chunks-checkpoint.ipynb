{
 "cells": [
  {
   "cell_type": "markdown",
   "metadata": {},
   "source": [
    "## PD_MIT-CS1PD dataset"
   ]
  },
  {
   "cell_type": "markdown",
   "metadata": {},
   "source": [
    "### Ground truth loading"
   ]
  },
  {
   "cell_type": "code",
   "execution_count": 1,
   "metadata": {},
   "outputs": [],
   "source": [
    "import pandas as pd\n",
    "import numpy as np\n",
    "import matplotlib.pyplot as plt\n",
    "import nqDataLoader as nq  #data loading library\n",
    "from sklearn.model_selection import train_test_split\n",
    "import h5py"
   ]
  },
  {
   "cell_type": "markdown",
   "metadata": {},
   "source": [
    "### Load all the files"
   ]
  },
  {
   "cell_type": "code",
   "execution_count": 2,
   "metadata": {},
   "outputs": [],
   "source": [
    "# load ground Ground Truth \n",
    "cs1PdFr = pd.read_csv( 'MIT-CS1PD/GT_DataPD_MIT-CS1PD.csv' )\n",
    "# set Patient ID as index\n",
    "cs1PdFr = cs1PdFr.set_index('pID')\n",
    "# load ground Ground Truth \n",
    "cs2PdFr = pd.read_csv( 'MIT-CS2PD/GT_DataPD_MIT-CS2PD.csv' )\n",
    "# set Patient ID as index\n",
    "cs2PdFr = cs2PdFr.set_index('pID')\n",
    "# show part of Data Frame\n",
    "# cs2PdFr.head()"
   ]
  },
  {
   "cell_type": "code",
   "execution_count": 3,
   "metadata": {
    "scrolled": true
   },
   "outputs": [
    {
     "name": "stderr",
     "output_type": "stream",
     "text": [
      "nqDataLoader.py:87: VisibleDeprecationWarning: Reading unicode strings without specifying the encoding argument is deprecated. Set the encoding, use None for the system default.\n",
      "  data = np.genfromtxt(fileIn, dtype=None, delimiter=',', skip_header=0)\n"
     ]
    }
   ],
   "source": [
    "filenames = ['file_1', 'file_2']\n",
    "patients = pd.DataFrame(columns=['id', 'data', 'label'])\n",
    "def load_all(record):\n",
    "    global filenames, patients\n",
    "    name = record.name\n",
    "    \n",
    "    arr = np.empty(shape=(0, 0))\n",
    "    prArr = np.empty(shape=(0, 0))\n",
    "    relArr = np.empty(shape=(0, 0))\n",
    "    keyp = pd.Series()\n",
    "    for filename in filenames:\n",
    "        keyPressed, htArr, pressArr, releaseArr = \\\n",
    "                nq.getDataFiltHelper( 'MIT-CS1PD/data_MIT-CS1PD/' + cs1PdFr.loc[name][filename])\n",
    "        arr = np.append(arr, htArr)\n",
    "        prArr = np.append(prArr, pressArr)\n",
    "        relArr = np.append(relArr, releaseArr)\n",
    "        keyp = keyp.append(pd.Series(keyPressed))\n",
    "        \n",
    "    patients = patients.append({'id': name, 'data': arr, 'key': keyp, 'label': record['gt'], 'press': prArr, 'release': relArr}, ignore_index=True)\n",
    "    return True\n",
    "\n",
    "def load_all_d2(record):\n",
    "    global patients\n",
    "    filenames = ['file_1']\n",
    "    name = record.name\n",
    "    \n",
    "    arr = np.empty(shape=(0, 0))\n",
    "    prArr = np.empty(shape=(0, 0))\n",
    "    relArr = np.empty(shape=(0, 0))\n",
    "    keyp = pd.Series()\n",
    "    for filename in filenames:\n",
    "        keyPressed, htArr, pressArr, releaseArr = \\\n",
    "                nq.getDataFiltHelper( 'MIT-CS2PD/data_MIT-CS2PD/' + cs2PdFr.loc[name][filename])\n",
    "        arr = np.append(arr, htArr)\n",
    "        prArr = np.append(prArr, pressArr)\n",
    "        relArr = np.append(relArr, releaseArr)\n",
    "        keyp = keyp.append(pd.Series(keyPressed))\n",
    "        \n",
    "    patients = patients.append({'id': name, 'data': arr, 'key': keyp, 'label': record['gt'], 'press': prArr, 'release': relArr}, ignore_index=True)\n",
    "    return True\n",
    "\n",
    "def remove_quotes(row):    \n",
    "    return list(row.apply(lambda x: x.replace('\"', '')))\n",
    "\n",
    "    \n",
    "tmp = cs1PdFr.apply(lambda x: load_all(x), axis=1)\n",
    "tmp = cs2PdFr.apply(lambda x: load_all_d2(x), axis=1)\n",
    "\n",
    "patients.set_index('id', inplace=True)\n",
    "\n",
    "patients['key'] = patients['key'].apply(lambda x: remove_quotes(x))"
   ]
  },
  {
   "cell_type": "markdown",
   "metadata": {},
   "source": [
    "### Map key to row"
   ]
  },
  {
   "cell_type": "code",
   "execution_count": 4,
   "metadata": {
    "scrolled": true
   },
   "outputs": [],
   "source": [
    "keyss = set()\n",
    "\n",
    "def add_to_set(row):\n",
    "    global keyss\n",
    "    keyss.update(row)\n",
    "tmp = patients['key'].apply(lambda x: add_to_set(x))\n",
    "# patients.head()\n"
   ]
  },
  {
   "cell_type": "code",
   "execution_count": 5,
   "metadata": {
    "scrolled": true
   },
   "outputs": [],
   "source": [
    "# cs1PdFr.iloc[0].name\n",
    "keyboard = {1: ['Escape', '[269025200]', '[269025201]', '[65027]', '[65104]', '[65105]', ''],\n",
    "            2: ['1', '2', '3', '4', '5', '6', '7', '8', '9', '0', 'masculine', 'exclam', 'exclamdown', 'question', 'apostrophe', 'Insert', 'Num_Lock', 'P_Subtract'], \n",
    "            3: ['q', 'w', 'e', 'r', 't', 'y', 'u', 'i', 'o', 'p', 'Q', 'W', 'E', 'R', 'T', 'Y', 'U', 'I', 'O', 'P', 'Tab', 'grave', 'plus', 'Delete', 'End', 'P_Add', 'P_Home', 'P_Page_Up'], \n",
    "            4: ['a', 's', 'd', 'f', 'g', 'h', 'j', 'k', 'l', 'A', 'S', 'D', 'F', 'G', 'H', 'J', 'K', 'L', 'Caps_Lock', 'ntilde', 'parenleft', 'parenright', 'acute', 'ccedilla', 'quotedbl', 'P_Left', 'Return'], \n",
    "            5: ['z', 'x', 'c', 'v', 'b', 'n', 'm', 'Z', 'X', 'C', 'V', 'B', 'N', 'M', 'less', 'colon', 'semicolon', 'period', 'periodcentered', 'comma', 'minus', 'underscore', 'Up', 'P_End', 'P_Down', 'P_Enter', 'P_Next'], \n",
    "            6: ['space', 'Super_L', 'Left', 'Menu', 'Down', 'Right', 'P_Insert']}\n",
    "\n",
    "# 1 is left, 2 is right\n",
    "leftright = {1: ['Escape', '[269025200]', '[269025201]', '[65027]', '[65104]', '[65105]', '', '1', '2', '3', '4', '5', 'masculine', \n",
    "                 'exclam', 'exclamdown', 'q', 'w', 'e', 'r', 't', 'Q', 'W', 'E', 'R', 'T', 'Tab', 'a', 's', 'd', 'f', 'g', \n",
    "                 'A', 'S', 'D', 'F', 'G', 'Caps_Lock', 'z', 'x', 'c', 'v', 'Z', 'X', 'C', 'V', 'Super_L', 'less'],\n",
    "             \n",
    "             2: ['6', '7', '8', '9', '0', 'question', 'apostrophe', 'Insert', 'Num_Lock', 'P_Subtract', 'y', 'u', 'i', 'o', 'p', \n",
    "                 'Y', 'U', 'I', 'O', 'P', 'grave', 'plus', 'Delete', 'End', 'P_Add', 'P_Home', 'P_Page_Up', 'h', 'j', 'k', 'l', \n",
    "                 'H', 'J', 'K', 'L', 'ntilde', 'parenleft', 'parenright', 'acute', 'ccedilla', 'quotedbl', 'P_Left', 'Return', \n",
    "                 'b', 'n', 'm', 'B', 'N', 'M', 'space', 'Left', 'Menu', 'Down', 'Right', 'P_Insert',\n",
    "                 'colon', 'semicolon', 'period', 'periodcentered', 'comma', 'minus', 'underscore', 'Up', 'P_End', 'P_Down', 'P_Enter', 'P_Next']}\n",
    "# patients.head()"
   ]
  },
  {
   "cell_type": "code",
   "execution_count": 6,
   "metadata": {},
   "outputs": [],
   "source": [
    "def digList(lst):\n",
    "    temp = []\n",
    "    for item in lst:\n",
    "        if type(item) is list:\n",
    "            temp.append(digList(item))\n",
    "        else:\n",
    "            temp.append(item)\n",
    "    return set(temp)\n",
    "\n",
    "invDict = {}\n",
    "for k, v in keyboard.items():\n",
    "    if type(v) is list:\n",
    "        items = digList(v)\n",
    "        for item in items:\n",
    "            invDict[item] = invDict.get(item, [])\n",
    "            invDict[item].append(k)\n",
    "    else:\n",
    "        invDict[v] = invDict.get(v, [])\n",
    "        invDict[v].append(k)\n",
    "\n",
    "keyboard_inv = invDict\n",
    "\n",
    "invDict = {}\n",
    "for k, v in leftright.items():\n",
    "    if type(v) is list:\n",
    "        items = digList(v)\n",
    "        for item in items:\n",
    "            invDict[item] = invDict.get(item, [])\n",
    "            invDict[item].append(k)\n",
    "    else:\n",
    "        invDict[v] = invDict.get(v, [])\n",
    "        invDict[v].append(k)\n",
    "\n",
    "leftright_inv = invDict"
   ]
  },
  {
   "cell_type": "code",
   "execution_count": 7,
   "metadata": {
    "scrolled": true
   },
   "outputs": [],
   "source": [
    "def key_to_part(value):\n",
    "    return leftright_inv[value][0]\n",
    "\n",
    "def map_part(row):\n",
    "    return list(pd.Series(row).apply(lambda x: key_to_part(x)))\n",
    "\n",
    "def key_to_row(value):\n",
    "    return keyboard_inv[value][0]\n",
    "\n",
    "def map_rows(row):\n",
    "    return list(pd.Series(row).apply(lambda x: key_to_row(x)))\n",
    "\n",
    "patients['row'] = patients['key'].apply(lambda x: map_rows(x))\n",
    "patients['part'] = patients['key'].apply(lambda x: map_part(x))\n",
    "\n",
    "# patients.head()\n",
    "# keyboard.values()"
   ]
  },
  {
   "cell_type": "markdown",
   "metadata": {},
   "source": [
    "### Prepare training set"
   ]
  },
  {
   "cell_type": "code",
   "execution_count": 8,
   "metadata": {},
   "outputs": [],
   "source": [
    "X_train, Y_train = pd.DataFrame([patients['data'], patients['row'], patients['part'], patients['press'], patients['release']]), patients.label\n",
    "X_train = X_train.transpose()\n",
    "\n",
    "X_train['row'] = X_train['row'].apply(lambda x: np.array(x))\n",
    "X_train['part'] = X_train['part'].apply(lambda x: np.array(x))"
   ]
  },
  {
   "cell_type": "code",
   "execution_count": 9,
   "metadata": {},
   "outputs": [
    {
     "data": {
      "text/plain": [
       "(4829,)"
      ]
     },
     "execution_count": 9,
     "metadata": {},
     "output_type": "execute_result"
    }
   ],
   "source": [
    "X_train.iloc[0]['data'].shape"
   ]
  },
  {
   "cell_type": "code",
   "execution_count": 10,
   "metadata": {
    "scrolled": true
   },
   "outputs": [
    {
     "name": "stdout",
     "output_type": "stream",
     "text": [
      "6368\n",
      "('min is ', 299)\n"
     ]
    }
   ],
   "source": [
    "def find_max(df):\n",
    "     return max(df['key'].apply(lambda x: len(x)))\n",
    "    \n",
    "def find_mean(df):\n",
    "     return np.mean(df['key'].apply(lambda x: len(x)))\n",
    "    \n",
    "def find_min(df):\n",
    "     return min(df['key'].apply(lambda x: len(x)))\n",
    "    \n",
    "maxlen = find_max(patients)\n",
    "print(maxlen)\n",
    "print('min is ', find_min(patients))\n"
   ]
  },
  {
   "cell_type": "markdown",
   "metadata": {},
   "source": [
    "### Encoding C"
   ]
  },
  {
   "cell_type": "code",
   "execution_count": 11,
   "metadata": {},
   "outputs": [
    {
     "data": {
      "text/html": [
       "<div>\n",
       "<style scoped>\n",
       "    .dataframe tbody tr th:only-of-type {\n",
       "        vertical-align: middle;\n",
       "    }\n",
       "\n",
       "    .dataframe tbody tr th {\n",
       "        vertical-align: top;\n",
       "    }\n",
       "\n",
       "    .dataframe thead th {\n",
       "        text-align: right;\n",
       "    }\n",
       "</style>\n",
       "<table border=\"1\" class=\"dataframe\">\n",
       "  <thead>\n",
       "    <tr style=\"text-align: right;\">\n",
       "      <th></th>\n",
       "      <th>data</th>\n",
       "      <th>row</th>\n",
       "      <th>part</th>\n",
       "      <th>press</th>\n",
       "      <th>release</th>\n",
       "      <th>target</th>\n",
       "    </tr>\n",
       "    <tr>\n",
       "      <th>id</th>\n",
       "      <th></th>\n",
       "      <th></th>\n",
       "      <th></th>\n",
       "      <th></th>\n",
       "      <th></th>\n",
       "      <th></th>\n",
       "    </tr>\n",
       "  </thead>\n",
       "  <tbody>\n",
       "    <tr>\n",
       "      <th>11</th>\n",
       "      <td>[0.1713, 0.1432, 0.0655, 0.1188, 0.0737, 0.065...</td>\n",
       "      <td>[4, 5, 3, 4, 6, 3, 5, 4, 6, 5, 3, 4, 6, 3, 3, ...</td>\n",
       "      <td>[1, 2, 2, 1, 2, 2, 2, 1, 2, 1, 1, 1, 2, 1, 1, ...</td>\n",
       "      <td>[2.4568, 2.7748, 2.9139, 3.0805, 3.1564, 3.435...</td>\n",
       "      <td>[2.6281, 2.918, 2.9794, 3.1992, 3.2301, 3.5004...</td>\n",
       "      <td>1</td>\n",
       "    </tr>\n",
       "    <tr>\n",
       "      <th>60</th>\n",
       "      <td>[0.0895, 0.0954, 0.1738, 0.1078, 0.166, 0.1361...</td>\n",
       "      <td>[4, 3, 4, 6, 3, 5, 4, 4, 4, 3, 6, 4, 3, 6, 3, ...</td>\n",
       "      <td>[1, 1, 2, 2, 1, 2, 1, 1, 1, 2, 2, 2, 1, 2, 1, ...</td>\n",
       "      <td>[2.6084, 2.8721, 3.9054, 5.2092, 5.893, 6.3525...</td>\n",
       "      <td>[2.6979, 2.9675, 4.0792, 5.317, 6.0589, 6.4886...</td>\n",
       "      <td>0</td>\n",
       "    </tr>\n",
       "    <tr>\n",
       "      <th>67</th>\n",
       "      <td>[0.1119, 0.1345, 0.3396, 0.1883, 0.1592, 0.134...</td>\n",
       "      <td>[4, 3, 3, 6, 3, 3, 5, 3, 4, 3, 4, 3, 6, 4, 3, ...</td>\n",
       "      <td>[1, 2, 1, 2, 1, 1, 1, 2, 1, 2, 1, 2, 2, 1, 1, ...</td>\n",
       "      <td>[1.3361, 1.9241, 2.6734, 3.1709, 3.6996, 4.082...</td>\n",
       "      <td>[1.4481, 2.0585, 3.0129, 3.3591, 3.8588, 4.217...</td>\n",
       "      <td>1</td>\n",
       "    </tr>\n",
       "    <tr>\n",
       "      <th>68</th>\n",
       "      <td>[0.1194, 0.1337, 0.1847, 0.1499, 0.2137, 0.164...</td>\n",
       "      <td>[5, 3, 3, 3, 3, 5, 6, 3, 3, 3, 6, 5, 3, 3, 6, ...</td>\n",
       "      <td>[2, 1, 1, 1, 2, 2, 2, 1, 2, 1, 2, 1, 2, 2, 2, ...</td>\n",
       "      <td>[1.8314, 2.4218, 2.8949, 3.2413, 3.9616, 6.467...</td>\n",
       "      <td>[1.9508, 2.5555, 3.0796, 3.3912, 4.1754, 6.631...</td>\n",
       "      <td>0</td>\n",
       "    </tr>\n",
       "    <tr>\n",
       "      <th>70</th>\n",
       "      <td>[0.1528, 0.208, 0.2084, 0.1539, 0.177, 0.2055,...</td>\n",
       "      <td>[5, 4, 4, 6, 3, 4, 4, 4, 3, 3, 4, 6, 3, 3, 3, ...</td>\n",
       "      <td>[2, 2, 1, 2, 2, 1, 1, 1, 1, 1, 1, 2, 2, 1, 2, ...</td>\n",
       "      <td>[0.6356, 6.0042, 6.4526, 8.0744, 9.0555, 9.484...</td>\n",
       "      <td>[0.7884, 6.2122, 6.661, 8.2283, 9.2325, 9.6897...</td>\n",
       "      <td>1</td>\n",
       "    </tr>\n",
       "  </tbody>\n",
       "</table>\n",
       "</div>"
      ],
      "text/plain": [
       "                                                 data  \\\n",
       "id                                                      \n",
       "11  [0.1713, 0.1432, 0.0655, 0.1188, 0.0737, 0.065...   \n",
       "60  [0.0895, 0.0954, 0.1738, 0.1078, 0.166, 0.1361...   \n",
       "67  [0.1119, 0.1345, 0.3396, 0.1883, 0.1592, 0.134...   \n",
       "68  [0.1194, 0.1337, 0.1847, 0.1499, 0.2137, 0.164...   \n",
       "70  [0.1528, 0.208, 0.2084, 0.1539, 0.177, 0.2055,...   \n",
       "\n",
       "                                                  row  \\\n",
       "id                                                      \n",
       "11  [4, 5, 3, 4, 6, 3, 5, 4, 6, 5, 3, 4, 6, 3, 3, ...   \n",
       "60  [4, 3, 4, 6, 3, 5, 4, 4, 4, 3, 6, 4, 3, 6, 3, ...   \n",
       "67  [4, 3, 3, 6, 3, 3, 5, 3, 4, 3, 4, 3, 6, 4, 3, ...   \n",
       "68  [5, 3, 3, 3, 3, 5, 6, 3, 3, 3, 6, 5, 3, 3, 6, ...   \n",
       "70  [5, 4, 4, 6, 3, 4, 4, 4, 3, 3, 4, 6, 3, 3, 3, ...   \n",
       "\n",
       "                                                 part  \\\n",
       "id                                                      \n",
       "11  [1, 2, 2, 1, 2, 2, 2, 1, 2, 1, 1, 1, 2, 1, 1, ...   \n",
       "60  [1, 1, 2, 2, 1, 2, 1, 1, 1, 2, 2, 2, 1, 2, 1, ...   \n",
       "67  [1, 2, 1, 2, 1, 1, 1, 2, 1, 2, 1, 2, 2, 1, 1, ...   \n",
       "68  [2, 1, 1, 1, 2, 2, 2, 1, 2, 1, 2, 1, 2, 2, 2, ...   \n",
       "70  [2, 2, 1, 2, 2, 1, 1, 1, 1, 1, 1, 2, 2, 1, 2, ...   \n",
       "\n",
       "                                                press  \\\n",
       "id                                                      \n",
       "11  [2.4568, 2.7748, 2.9139, 3.0805, 3.1564, 3.435...   \n",
       "60  [2.6084, 2.8721, 3.9054, 5.2092, 5.893, 6.3525...   \n",
       "67  [1.3361, 1.9241, 2.6734, 3.1709, 3.6996, 4.082...   \n",
       "68  [1.8314, 2.4218, 2.8949, 3.2413, 3.9616, 6.467...   \n",
       "70  [0.6356, 6.0042, 6.4526, 8.0744, 9.0555, 9.484...   \n",
       "\n",
       "                                              release  target  \n",
       "id                                                             \n",
       "11  [2.6281, 2.918, 2.9794, 3.1992, 3.2301, 3.5004...       1  \n",
       "60  [2.6979, 2.9675, 4.0792, 5.317, 6.0589, 6.4886...       0  \n",
       "67  [1.4481, 2.0585, 3.0129, 3.3591, 3.8588, 4.217...       1  \n",
       "68  [1.9508, 2.5555, 3.0796, 3.3912, 4.1754, 6.631...       0  \n",
       "70  [0.7884, 6.2122, 6.661, 8.2283, 9.2325, 9.6897...       1  "
      ]
     },
     "execution_count": 11,
     "metadata": {},
     "output_type": "execute_result"
    }
   ],
   "source": [
    "X_train['target'] = Y_train.astype(int)\n",
    "X_train.head()"
   ]
  },
  {
   "cell_type": "code",
   "execution_count": 12,
   "metadata": {},
   "outputs": [],
   "source": [
    "reference = {'11': 1, '12': 2, '13': 3, '14': 4, '15': 5, '16': 6, '21': 7, '22': 8, '23': 9, '24': 10, '25': 11, '26': 12}\n",
    "\n",
    "def map_index(two_arrays):\n",
    "    result = []\n",
    "    for idx in range(two_arrays['row'].shape[0]):\n",
    "        index = str(int(two_arrays['part'][idx])) + str(int(two_arrays['row'][idx]))\n",
    "        result.append(reference[index])\n",
    "    return result\n",
    "\n",
    "def levels_12(patient):\n",
    "    return map_index(patient[['row', 'part']])\n",
    "    \n",
    "X_train['scale'] = X_train.apply(lambda patient: levels_12(patient), axis=1)"
   ]
  },
  {
   "cell_type": "code",
   "execution_count": 13,
   "metadata": {},
   "outputs": [
    {
     "data": {
      "text/html": [
       "<div>\n",
       "<style scoped>\n",
       "    .dataframe tbody tr th:only-of-type {\n",
       "        vertical-align: middle;\n",
       "    }\n",
       "\n",
       "    .dataframe tbody tr th {\n",
       "        vertical-align: top;\n",
       "    }\n",
       "\n",
       "    .dataframe thead th {\n",
       "        text-align: right;\n",
       "    }\n",
       "</style>\n",
       "<table border=\"1\" class=\"dataframe\">\n",
       "  <thead>\n",
       "    <tr style=\"text-align: right;\">\n",
       "      <th></th>\n",
       "      <th>hold</th>\n",
       "      <th>row</th>\n",
       "      <th>part</th>\n",
       "      <th>press</th>\n",
       "      <th>release</th>\n",
       "      <th>label</th>\n",
       "      <th>scale</th>\n",
       "    </tr>\n",
       "    <tr>\n",
       "      <th>id</th>\n",
       "      <th></th>\n",
       "      <th></th>\n",
       "      <th></th>\n",
       "      <th></th>\n",
       "      <th></th>\n",
       "      <th></th>\n",
       "      <th></th>\n",
       "    </tr>\n",
       "  </thead>\n",
       "  <tbody>\n",
       "    <tr>\n",
       "      <th>11</th>\n",
       "      <td>[0.1713, 0.1432, 0.0655, 0.1188, 0.0737, 0.065...</td>\n",
       "      <td>[4, 5, 3, 4, 6, 3, 5, 4, 6, 5, 3, 4, 6, 3, 3, ...</td>\n",
       "      <td>[1, 2, 2, 1, 2, 2, 2, 1, 2, 1, 1, 1, 2, 1, 1, ...</td>\n",
       "      <td>[2.4568, 2.7748, 2.9139, 3.0805, 3.1564, 3.435...</td>\n",
       "      <td>[2.6281, 2.918, 2.9794, 3.1992, 3.2301, 3.5004...</td>\n",
       "      <td>1</td>\n",
       "      <td>[4, 11, 9, 4, 12, 9, 11, 4, 12, 5, 3, 4, 12, 3...</td>\n",
       "    </tr>\n",
       "    <tr>\n",
       "      <th>60</th>\n",
       "      <td>[0.0895, 0.0954, 0.1738, 0.1078, 0.166, 0.1361...</td>\n",
       "      <td>[4, 3, 4, 6, 3, 5, 4, 4, 4, 3, 6, 4, 3, 6, 3, ...</td>\n",
       "      <td>[1, 1, 2, 2, 1, 2, 1, 1, 1, 2, 2, 2, 1, 2, 1, ...</td>\n",
       "      <td>[2.6084, 2.8721, 3.9054, 5.2092, 5.893, 6.3525...</td>\n",
       "      <td>[2.6979, 2.9675, 4.0792, 5.317, 6.0589, 6.4886...</td>\n",
       "      <td>0</td>\n",
       "      <td>[4, 3, 10, 12, 3, 11, 4, 4, 4, 9, 12, 10, 3, 1...</td>\n",
       "    </tr>\n",
       "    <tr>\n",
       "      <th>67</th>\n",
       "      <td>[0.1119, 0.1345, 0.3396, 0.1883, 0.1592, 0.134...</td>\n",
       "      <td>[4, 3, 3, 6, 3, 3, 5, 3, 4, 3, 4, 3, 6, 4, 3, ...</td>\n",
       "      <td>[1, 2, 1, 2, 1, 1, 1, 2, 1, 2, 1, 2, 2, 1, 1, ...</td>\n",
       "      <td>[1.3361, 1.9241, 2.6734, 3.1709, 3.6996, 4.082...</td>\n",
       "      <td>[1.4481, 2.0585, 3.0129, 3.3591, 3.8588, 4.217...</td>\n",
       "      <td>1</td>\n",
       "      <td>[4, 9, 3, 12, 3, 3, 5, 9, 4, 9, 4, 9, 12, 4, 3...</td>\n",
       "    </tr>\n",
       "    <tr>\n",
       "      <th>68</th>\n",
       "      <td>[0.1194, 0.1337, 0.1847, 0.1499, 0.2137, 0.164...</td>\n",
       "      <td>[5, 3, 3, 3, 3, 5, 6, 3, 3, 3, 6, 5, 3, 3, 6, ...</td>\n",
       "      <td>[2, 1, 1, 1, 2, 2, 2, 1, 2, 1, 2, 1, 2, 2, 2, ...</td>\n",
       "      <td>[1.8314, 2.4218, 2.8949, 3.2413, 3.9616, 6.467...</td>\n",
       "      <td>[1.9508, 2.5555, 3.0796, 3.3912, 4.1754, 6.631...</td>\n",
       "      <td>0</td>\n",
       "      <td>[11, 3, 3, 3, 9, 11, 12, 3, 9, 3, 12, 5, 9, 9,...</td>\n",
       "    </tr>\n",
       "    <tr>\n",
       "      <th>70</th>\n",
       "      <td>[0.1528, 0.208, 0.2084, 0.1539, 0.177, 0.2055,...</td>\n",
       "      <td>[5, 4, 4, 6, 3, 4, 4, 4, 3, 3, 4, 6, 3, 3, 3, ...</td>\n",
       "      <td>[2, 2, 1, 2, 2, 1, 1, 1, 1, 1, 1, 2, 2, 1, 2, ...</td>\n",
       "      <td>[0.6356, 6.0042, 6.4526, 8.0744, 9.0555, 9.484...</td>\n",
       "      <td>[0.7884, 6.2122, 6.661, 8.2283, 9.2325, 9.6897...</td>\n",
       "      <td>1</td>\n",
       "      <td>[11, 10, 4, 12, 9, 4, 4, 4, 3, 3, 4, 12, 9, 3,...</td>\n",
       "    </tr>\n",
       "  </tbody>\n",
       "</table>\n",
       "</div>"
      ],
      "text/plain": [
       "                                                 hold  \\\n",
       "id                                                      \n",
       "11  [0.1713, 0.1432, 0.0655, 0.1188, 0.0737, 0.065...   \n",
       "60  [0.0895, 0.0954, 0.1738, 0.1078, 0.166, 0.1361...   \n",
       "67  [0.1119, 0.1345, 0.3396, 0.1883, 0.1592, 0.134...   \n",
       "68  [0.1194, 0.1337, 0.1847, 0.1499, 0.2137, 0.164...   \n",
       "70  [0.1528, 0.208, 0.2084, 0.1539, 0.177, 0.2055,...   \n",
       "\n",
       "                                                  row  \\\n",
       "id                                                      \n",
       "11  [4, 5, 3, 4, 6, 3, 5, 4, 6, 5, 3, 4, 6, 3, 3, ...   \n",
       "60  [4, 3, 4, 6, 3, 5, 4, 4, 4, 3, 6, 4, 3, 6, 3, ...   \n",
       "67  [4, 3, 3, 6, 3, 3, 5, 3, 4, 3, 4, 3, 6, 4, 3, ...   \n",
       "68  [5, 3, 3, 3, 3, 5, 6, 3, 3, 3, 6, 5, 3, 3, 6, ...   \n",
       "70  [5, 4, 4, 6, 3, 4, 4, 4, 3, 3, 4, 6, 3, 3, 3, ...   \n",
       "\n",
       "                                                 part  \\\n",
       "id                                                      \n",
       "11  [1, 2, 2, 1, 2, 2, 2, 1, 2, 1, 1, 1, 2, 1, 1, ...   \n",
       "60  [1, 1, 2, 2, 1, 2, 1, 1, 1, 2, 2, 2, 1, 2, 1, ...   \n",
       "67  [1, 2, 1, 2, 1, 1, 1, 2, 1, 2, 1, 2, 2, 1, 1, ...   \n",
       "68  [2, 1, 1, 1, 2, 2, 2, 1, 2, 1, 2, 1, 2, 2, 2, ...   \n",
       "70  [2, 2, 1, 2, 2, 1, 1, 1, 1, 1, 1, 2, 2, 1, 2, ...   \n",
       "\n",
       "                                                press  \\\n",
       "id                                                      \n",
       "11  [2.4568, 2.7748, 2.9139, 3.0805, 3.1564, 3.435...   \n",
       "60  [2.6084, 2.8721, 3.9054, 5.2092, 5.893, 6.3525...   \n",
       "67  [1.3361, 1.9241, 2.6734, 3.1709, 3.6996, 4.082...   \n",
       "68  [1.8314, 2.4218, 2.8949, 3.2413, 3.9616, 6.467...   \n",
       "70  [0.6356, 6.0042, 6.4526, 8.0744, 9.0555, 9.484...   \n",
       "\n",
       "                                              release  label  \\\n",
       "id                                                             \n",
       "11  [2.6281, 2.918, 2.9794, 3.1992, 3.2301, 3.5004...      1   \n",
       "60  [2.6979, 2.9675, 4.0792, 5.317, 6.0589, 6.4886...      0   \n",
       "67  [1.4481, 2.0585, 3.0129, 3.3591, 3.8588, 4.217...      1   \n",
       "68  [1.9508, 2.5555, 3.0796, 3.3912, 4.1754, 6.631...      0   \n",
       "70  [0.7884, 6.2122, 6.661, 8.2283, 9.2325, 9.6897...      1   \n",
       "\n",
       "                                                scale  \n",
       "id                                                     \n",
       "11  [4, 11, 9, 4, 12, 9, 11, 4, 12, 5, 3, 4, 12, 3...  \n",
       "60  [4, 3, 10, 12, 3, 11, 4, 4, 4, 9, 12, 10, 3, 1...  \n",
       "67  [4, 9, 3, 12, 3, 3, 5, 9, 4, 9, 4, 9, 12, 4, 3...  \n",
       "68  [11, 3, 3, 3, 9, 11, 12, 3, 9, 3, 12, 5, 9, 9,...  \n",
       "70  [11, 10, 4, 12, 9, 4, 4, 4, 3, 3, 4, 12, 9, 3,...  "
      ]
     },
     "execution_count": 13,
     "metadata": {},
     "output_type": "execute_result"
    }
   ],
   "source": [
    "X_train = X_train.rename(columns={\"data\": \"hold\", \"target\": \"label\"})\n",
    "patients = X_train\n",
    "patients.head()"
   ]
  },
  {
   "cell_type": "markdown",
   "metadata": {},
   "source": [
    "### Encode signal"
   ]
  },
  {
   "cell_type": "code",
   "execution_count": 14,
   "metadata": {},
   "outputs": [],
   "source": [
    "frequency = 100  # Hz\n",
    "\n",
    "def encode(patient, freq=frequency):\n",
    "    n_decimals = int(np.log10(freq))\n",
    "    timestep = np.arange(start=0, stop=int(patient['release'][-1]), step=np.float(1.0/frequency))\n",
    "    sample = np.zeros((timestep.shape[0], 1))\n",
    "    patient['press'] = np.round_(patient['press'], decimals=n_decimals)\n",
    "    patient['hold'] = np.round_(patient['hold'], decimals=n_decimals)\n",
    "    patient['release'] = np.round_(patient['release'], decimals=n_decimals)\n",
    "    \n",
    "    for idx in range(patient['hold'].shape[0]):\n",
    "        start = patient['press'][idx]\n",
    "        finish = patient['release'][idx]\n",
    "        scale = patient['scale'][idx]\n",
    "        \n",
    "        size_of_insert = int(np.round_((finish - start) * freq, decimals=n_decimals))\n",
    "        start_id = int(start * (10 ** n_decimals))\n",
    "        \n",
    "        try:\n",
    "            sample[start_id: start_id + size_of_insert] = scale*np.ones((size_of_insert, 1))\n",
    "        except:\n",
    "            sample = np.concatenate((sample, scale*np.zeros((start_id + size_of_insert - sample.shape[0], 1))))\n",
    "            sample[start_id: start_id + size_of_insert] = scale*np.ones((size_of_insert, 1))\n",
    "    return {'encoded': sample, 'label': patient['label']}\n",
    "\n",
    "def enc_table(table):\n",
    "    return table.apply(lambda x: encode(x), axis=1)\n",
    "\n",
    "X_train = pd.DataFrame(enc_table(patients))\n",
    "X_train = X_train[0].apply(pd.Series)\n",
    "X_train['label'] = X_train['label'].astype(int)"
   ]
  },
  {
   "cell_type": "code",
   "execution_count": 15,
   "metadata": {},
   "outputs": [],
   "source": [
    "import matplotlib\n",
    "font = {'family' : 'normal',\n",
    "        'weight' : 'normal',\n",
    "        'size'   : 16}\n",
    "\n",
    "matplotlib.rc('font', **font)"
   ]
  },
  {
   "cell_type": "code",
   "execution_count": 16,
   "metadata": {},
   "outputs": [
    {
     "name": "stderr",
     "output_type": "stream",
     "text": [
      "/home/ao2u17/.conda/envs/python2/lib/python2.7/site-packages/matplotlib/font_manager.py:1328: UserWarning: findfont: Font family [u'normal'] not found. Falling back to DejaVu Sans\n",
      "  (prop.get_family(), self.defaultFamily[fontext]))\n"
     ]
    },
    {
     "data": {
      "image/png": "[encoded data removed]",
      "text/plain": [
       "<Figure size 504x360 with 1 Axes>"
      ]
     },
     "metadata": {},
     "output_type": "display_data"
    }
   ],
   "source": [
    "\n",
    "fig1 = plt.figure(figsize=(7, 5))\n",
    "plt.plot([i/100.0 for i in range(len(X_train['encoded'].iloc[0]))], X_train['encoded'].iloc[0])\n",
    "plt.xlim((0, 3))\n",
    "\n",
    "plt.xlabel(\"Time, s\")\n",
    "plt.ylabel(\"Amplitude\")\n",
    "# plt.xticks()\n",
    "# plt.legend(loc='upper right')\n",
    "# plt.xlim((50, 250))\n",
    "# plt.ylim((0, 100))\n",
    "plt.grid()\n",
    "plt.savefig('graphs/encodingc.png')\n",
    "plt.show()"
   ]
  },
  {
   "cell_type": "markdown",
   "metadata": {},
   "source": [
    "### Chunk each time series"
   ]
  },
  {
   "cell_type": "code",
   "execution_count": 17,
   "metadata": {},
   "outputs": [],
   "source": [
    "def chunk_one_patient(series, size, overlap):\n",
    "    arr = np.array(chunk_array(series['encoded'], size, overlap))\n",
    "    target = np.array([series['label'] for i in range(arr.shape[0])])\n",
    "    return [arr, target]\n",
    "\n",
    "def chunk_array(array, size, overlap):\n",
    "#     print(array.shape)\n",
    "    gen = gen_split_overlap(array, size, overlap)\n",
    "    \n",
    "    result = []\n",
    "    for arr in gen:\n",
    "        # if it's the last arr add zeros (if it's 0.7 of size)\n",
    "        if arr.shape[0] != size:\n",
    "            if np.float(arr.shape[0]) / np.float(size) >= 0.7:\n",
    "                arr = np.concatenate((arr, np.zeros((size - arr.shape[0], 1))))\n",
    "            else:\n",
    "                continue\n",
    "        \n",
    "        result.append(arr)\n",
    "#         print(arr.shape)\n",
    "    return result\n",
    "    \n",
    "\n",
    "def gen_split_overlap(seq, size, overlap):\n",
    "    if size < 1 or overlap < 0:\n",
    "        raise ValueError('size must be >= 1 and overlap >= 0')\n",
    "\n",
    "    for i in range(0, len(seq) - overlap, size - overlap):            \n",
    "        yield seq[i: i + size]"
   ]
  },
  {
   "cell_type": "code",
   "execution_count": 18,
   "metadata": {
    "scrolled": true
   },
   "outputs": [],
   "source": [
    "chunk_size = 500  # number of data points in one chunk\n",
    "overlap = 0.0     # overlapping between chunks in percents of chunk_size\n",
    "overlap = int(overlap*chunk_size)\n",
    "\n",
    "res_df = pd.DataFrame()\n",
    "res_df = X_train.apply(lambda x: chunk_one_patient(x, chunk_size, overlap), axis=1)\n",
    "res_df = pd.DataFrame(res_df.apply(pd.Series))\n",
    "res_df = res_df.rename(columns={0: \"data\", 1: \"target\"})"
   ]
  },
  {
   "cell_type": "code",
   "execution_count": 19,
   "metadata": {},
   "outputs": [
    {
     "data": {
      "text/html": [
       "<div>\n",
       "<style scoped>\n",
       "    .dataframe tbody tr th:only-of-type {\n",
       "        vertical-align: middle;\n",
       "    }\n",
       "\n",
       "    .dataframe tbody tr th {\n",
       "        vertical-align: top;\n",
       "    }\n",
       "\n",
       "    .dataframe thead th {\n",
       "        text-align: right;\n",
       "    }\n",
       "</style>\n",
       "<table border=\"1\" class=\"dataframe\">\n",
       "  <thead>\n",
       "    <tr style=\"text-align: right;\">\n",
       "      <th></th>\n",
       "      <th>data</th>\n",
       "      <th>target</th>\n",
       "    </tr>\n",
       "    <tr>\n",
       "      <th>id</th>\n",
       "      <th></th>\n",
       "      <th></th>\n",
       "    </tr>\n",
       "  </thead>\n",
       "  <tbody>\n",
       "    <tr>\n",
       "      <th>11</th>\n",
       "      <td>[[[0.0], [0.0], [0.0], [0.0], [0.0], [0.0], [0...</td>\n",
       "      <td>[1, 1, 1, 1, 1, 1, 1, 1, 1, 1, 1, 1, 1, 1, 1, ...</td>\n",
       "    </tr>\n",
       "    <tr>\n",
       "      <th>60</th>\n",
       "      <td>[[[0.0], [0.0], [0.0], [0.0], [0.0], [0.0], [0...</td>\n",
       "      <td>[0, 0, 0, 0, 0, 0, 0, 0, 0, 0, 0, 0, 0, 0, 0, ...</td>\n",
       "    </tr>\n",
       "    <tr>\n",
       "      <th>67</th>\n",
       "      <td>[[[0.0], [0.0], [0.0], [0.0], [0.0], [0.0], [0...</td>\n",
       "      <td>[1, 1, 1, 1, 1, 1, 1, 1, 1, 1, 1, 1, 1, 1, 1, ...</td>\n",
       "    </tr>\n",
       "    <tr>\n",
       "      <th>68</th>\n",
       "      <td>[[[0.0], [0.0], [0.0], [0.0], [0.0], [0.0], [0...</td>\n",
       "      <td>[0, 0, 0, 0, 0, 0, 0, 0, 0, 0, 0, 0, 0, 0, 0, ...</td>\n",
       "    </tr>\n",
       "    <tr>\n",
       "      <th>70</th>\n",
       "      <td>[[[0.0], [0.0], [0.0], [0.0], [0.0], [0.0], [0...</td>\n",
       "      <td>[1, 1, 1, 1, 1, 1, 1, 1, 1, 1, 1, 1, 1, 1, 1, ...</td>\n",
       "    </tr>\n",
       "  </tbody>\n",
       "</table>\n",
       "</div>"
      ],
      "text/plain": [
       "                                                 data  \\\n",
       "id                                                      \n",
       "11  [[[0.0], [0.0], [0.0], [0.0], [0.0], [0.0], [0...   \n",
       "60  [[[0.0], [0.0], [0.0], [0.0], [0.0], [0.0], [0...   \n",
       "67  [[[0.0], [0.0], [0.0], [0.0], [0.0], [0.0], [0...   \n",
       "68  [[[0.0], [0.0], [0.0], [0.0], [0.0], [0.0], [0...   \n",
       "70  [[[0.0], [0.0], [0.0], [0.0], [0.0], [0.0], [0...   \n",
       "\n",
       "                                               target  \n",
       "id                                                     \n",
       "11  [1, 1, 1, 1, 1, 1, 1, 1, 1, 1, 1, 1, 1, 1, 1, ...  \n",
       "60  [0, 0, 0, 0, 0, 0, 0, 0, 0, 0, 0, 0, 0, 0, 0, ...  \n",
       "67  [1, 1, 1, 1, 1, 1, 1, 1, 1, 1, 1, 1, 1, 1, 1, ...  \n",
       "68  [0, 0, 0, 0, 0, 0, 0, 0, 0, 0, 0, 0, 0, 0, 0, ...  \n",
       "70  [1, 1, 1, 1, 1, 1, 1, 1, 1, 1, 1, 1, 1, 1, 1, ...  "
      ]
     },
     "execution_count": 19,
     "metadata": {},
     "output_type": "execute_result"
    }
   ],
   "source": [
    "def split_column_target(row):\n",
    "#     print(row)\n",
    "    return row[1]\n",
    "\n",
    "def split_column_data(row):\n",
    "#     print(row.shape)\n",
    "    return row[0]\n",
    "\n",
    "res_df.head()\n",
    "# res_df['target'] = res_df['target'].apply(lambda x: split_column_target(x))\n",
    "# res_df['data'] = res_df['data'].apply(lambda x: split_column_data(x))"
   ]
  },
  {
   "cell_type": "markdown",
   "metadata": {},
   "source": [
    "### Save for pure cross val"
   ]
  },
  {
   "cell_type": "code",
   "execution_count": 20,
   "metadata": {},
   "outputs": [],
   "source": [
    "# res_df.to_json('enc_Kate12_chunks{chunks}.json'.format(chunks=chunk_size))"
   ]
  },
  {
   "cell_type": "markdown",
   "metadata": {},
   "source": [
    "### Old save"
   ]
  },
  {
   "cell_type": "code",
   "execution_count": 21,
   "metadata": {},
   "outputs": [
    {
     "name": "stdout",
     "output_type": "stream",
     "text": [
      "('X_train shape', (14806, 500, 1))\n",
      "('Y_train shape', (14806,))\n"
     ]
    }
   ],
   "source": [
    "# Concatenate rows all together\n",
    "train_set = np.array((0, 0, 0))\n",
    "target_set = np.array(0)\n",
    "\n",
    "def concat_train(row):\n",
    "    global train_set\n",
    "    try: \n",
    "        train_set.shape[0]\n",
    "        train_set = np.concatenate([train_set, row])\n",
    "    except:\n",
    "        train_set = row\n",
    "\n",
    "def concat_target(row):\n",
    "    global target_set\n",
    "    try: \n",
    "        target_set.shape[0]\n",
    "        target_set = np.concatenate([target_set, row])\n",
    "    except:\n",
    "        target_set = row\n",
    "        \n",
    "tmp = res_df['data'].apply(lambda x: concat_train(x))\n",
    "tmp = res_df['target'].apply(lambda x: concat_target(x))\n",
    "\n",
    "\n",
    "print('X_train shape', train_set.shape)\n",
    "print('Y_train shape', target_set.shape)"
   ]
  },
  {
   "cell_type": "markdown",
   "metadata": {},
   "source": [
    "### Split training and testing instances"
   ]
  },
  {
   "cell_type": "code",
   "execution_count": 22,
   "metadata": {},
   "outputs": [],
   "source": [
    "# X_train, X_test, Y_train, Y_test = train_test_split(X_train, Y_train, test_size=0.1, random_state=15)"
   ]
  },
  {
   "cell_type": "markdown",
   "metadata": {},
   "source": [
    "### Save data"
   ]
  },
  {
   "cell_type": "code",
   "execution_count": 23,
   "metadata": {},
   "outputs": [],
   "source": [
    "h5f = h5py.File('encoding_C_chunks{chunks}over{over}.h5'.format(chunks=chunk_size, over=overlap), 'w')\n",
    "h5f.create_dataset('train', data=train_set)\n",
    "h5f.create_dataset('target', data=target_set)\n",
    "h5f.close()"
   ]
  },
  {
   "cell_type": "code",
   "execution_count": null,
   "metadata": {},
   "outputs": [],
   "source": []
  }
 ],
 "metadata": {
  "kernelspec": {
   "display_name": "Python 2",
   "language": "python",
   "name": "python2"
  },
  "language_info": {
   "codemirror_mode": {
    "name": "ipython",
    "version": 3
   },
   "file_extension": ".py",
   "mimetype": "text/x-python",
   "name": "python",
   "nbconvert_exporter": "python",
   "pygments_lexer": "ipython3",
   "version": "3.6.5"
  }
 },
 "nbformat": 4,
 "nbformat_minor": 1
}
