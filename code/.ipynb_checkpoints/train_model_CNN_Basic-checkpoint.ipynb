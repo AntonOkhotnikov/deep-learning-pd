{
 "cells": [
  {
   "cell_type": "code",
   "execution_count": 2,
   "metadata": {},
   "outputs": [
    {
     "name": "stderr",
     "output_type": "stream",
     "text": [
      "Using TensorFlow backend.\n"
     ]
    }
   ],
   "source": [
    "import tensorflow\n",
    "import keras\n",
    "import os\n",
    "import pandas as pd\n",
    "import h5py\n",
    "from sklearn.model_selection import train_test_split\n",
    "from sklearn.metrics import accuracy_score\n",
    "import numpy as np\n",
    "from keras.optimizers import SGD\n",
    "from keras.utils import np_utils\n",
    "from keras.models import Sequential\n",
    "from keras.layers.core import Dense, Activation\n",
    "from keras.layers.recurrent import LSTM\n",
    "from keras.layers import Dropout, Flatten, Convolution1D as Conv1D, Convolution2D as Conv2D\n",
    "from keras.callbacks import EarlyStopping\n",
    "from keras.layers import Bidirectional\n",
    "from keras.layers.advanced_activations import LeakyReLU, PReLU\n",
    "from keras.layers import MaxPooling1D, AveragePooling1D, BatchNormalization as BatchNorm\n",
    "from sklearn.metrics import roc_auc_score\n",
    "from sklearn.metrics import f1_score\n",
    "from sklearn.model_selection import StratifiedKFold\n",
    "import matplotlib.pyplot as plt"
   ]
  },
  {
   "cell_type": "markdown",
   "metadata": {},
   "source": [
    "### Load the dataset"
   ]
  },
  {
   "cell_type": "code",
   "execution_count": 3,
   "metadata": {},
   "outputs": [
    {
     "name": "stdout",
     "output_type": "stream",
     "text": [
      "/mainfs/lyceum/ao2u17/Dissertation\n"
     ]
    }
   ],
   "source": [
    "path = os.getcwd()\n",
    "print(path)\n",
    "filename = '/encoding_A_freq100_chunks200.h5'"
   ]
  },
  {
   "cell_type": "code",
   "execution_count": 4,
   "metadata": {},
   "outputs": [
    {
     "name": "stdout",
     "output_type": "stream",
     "text": [
      "Target shape (14806,)\n",
      "Train shape (14806, 500, 1)\n"
     ]
    }
   ],
   "source": [
    "h5f = h5py.File(path + filename,'r')\n",
    "X_train = h5f['train'][:]\n",
    "Y_train = h5f['target'][:]\n",
    "h5f.close()\n",
    "\n",
    "print('Target shape', Y_train.shape)\n",
    "print('Train shape', X_train.shape)"
   ]
  },
  {
   "cell_type": "markdown",
   "metadata": {},
   "source": [
    "### Split to train and test"
   ]
  },
  {
   "cell_type": "code",
   "execution_count": 5,
   "metadata": {},
   "outputs": [],
   "source": [
    "X_train, X_test, Y_train, Y_test = train_test_split(X_train, Y_train, test_size=0.1, random_state=15)"
   ]
  },
  {
   "cell_type": "markdown",
   "metadata": {},
   "source": [
    "### Build model"
   ]
  },
  {
   "cell_type": "code",
   "execution_count": 18,
   "metadata": {
    "scrolled": true
   },
   "outputs": [
    {
     "name": "stdout",
     "output_type": "stream",
     "text": [
      "Build model...\n",
      "_________________________________________________________________\n",
      "Layer (type)                 Output Shape              Param #   \n",
      "=================================================================\n",
      "conv1d_17 (Conv1D)           (None, 451, 4)            204       \n",
      "_________________________________________________________________\n",
      "batch_normalization_17 (Batc (None, 451, 4)            16        \n",
      "_________________________________________________________________\n",
      "leaky_re_lu_17 (LeakyReLU)   (None, 451, 4)            0         \n",
      "_________________________________________________________________\n",
      "dropout_17 (Dropout)         (None, 451, 4)            0         \n",
      "_________________________________________________________________\n",
      "conv1d_18 (Conv1D)           (None, 402, 8)            1608      \n",
      "_________________________________________________________________\n",
      "batch_normalization_18 (Batc (None, 402, 8)            32        \n",
      "_________________________________________________________________\n",
      "leaky_re_lu_18 (LeakyReLU)   (None, 402, 8)            0         \n",
      "_________________________________________________________________\n",
      "dropout_18 (Dropout)         (None, 402, 8)            0         \n",
      "_________________________________________________________________\n",
      "conv1d_19 (Conv1D)           (None, 353, 16)           6416      \n",
      "_________________________________________________________________\n",
      "batch_normalization_19 (Batc (None, 353, 16)           64        \n",
      "_________________________________________________________________\n",
      "leaky_re_lu_19 (LeakyReLU)   (None, 353, 16)           0         \n",
      "_________________________________________________________________\n",
      "dropout_19 (Dropout)         (None, 353, 16)           0         \n",
      "_________________________________________________________________\n",
      "conv1d_20 (Conv1D)           (None, 304, 32)           25632     \n",
      "_________________________________________________________________\n",
      "batch_normalization_20 (Batc (None, 304, 32)           128       \n",
      "_________________________________________________________________\n",
      "leaky_re_lu_20 (LeakyReLU)   (None, 304, 32)           0         \n",
      "_________________________________________________________________\n",
      "dropout_20 (Dropout)         (None, 304, 32)           0         \n",
      "_________________________________________________________________\n",
      "conv1d_21 (Conv1D)           (None, 255, 64)           102464    \n",
      "_________________________________________________________________\n",
      "batch_normalization_21 (Batc (None, 255, 64)           256       \n",
      "_________________________________________________________________\n",
      "leaky_re_lu_21 (LeakyReLU)   (None, 255, 64)           0         \n",
      "_________________________________________________________________\n",
      "dropout_21 (Dropout)         (None, 255, 64)           0         \n",
      "_________________________________________________________________\n",
      "conv1d_22 (Conv1D)           (None, 206, 128)          409728    \n",
      "_________________________________________________________________\n",
      "batch_normalization_22 (Batc (None, 206, 128)          512       \n",
      "_________________________________________________________________\n",
      "leaky_re_lu_22 (LeakyReLU)   (None, 206, 128)          0         \n",
      "_________________________________________________________________\n",
      "max_pooling1d_5 (MaxPooling1 (None, 6, 128)            0         \n",
      "_________________________________________________________________\n",
      "flatten_5 (Flatten)          (None, 768)               0         \n",
      "_________________________________________________________________\n",
      "dropout_22 (Dropout)         (None, 768)               0         \n",
      "_________________________________________________________________\n",
      "dense_9 (Dense)              (None, 128)               98432     \n",
      "_________________________________________________________________\n",
      "activation_9 (Activation)    (None, 128)               0         \n",
      "_________________________________________________________________\n",
      "dense_10 (Dense)             (None, 1)                 129       \n",
      "_________________________________________________________________\n",
      "activation_10 (Activation)   (None, 1)                 0         \n",
      "=================================================================\n",
      "Total params: 645,621\n",
      "Trainable params: 645,117\n",
      "Non-trainable params: 504\n",
      "_________________________________________________________________\n",
      "Train...\n",
      "Train on 11326 samples, validate on 1999 samples\n",
      "Epoch 1/80\n",
      "11326/11326 [==============================] - 7s 640us/step - loss: 0.7955 - binary_accuracy: 0.5573 - val_loss: 0.6786 - val_binary_accuracy: 0.6083\n",
      "Epoch 2/80\n",
      "11326/11326 [==============================] - 3s 305us/step - loss: 0.6767 - binary_accuracy: 0.6089 - val_loss: 0.7424 - val_binary_accuracy: 0.6168\n",
      "Epoch 3/80\n",
      "11326/11326 [==============================] - 3s 304us/step - loss: 0.6644 - binary_accuracy: 0.6188 - val_loss: 0.7344 - val_binary_accuracy: 0.6463\n",
      "Epoch 4/80\n",
      "11326/11326 [==============================] - 3s 304us/step - loss: 0.6538 - binary_accuracy: 0.6345 - val_loss: 0.6501 - val_binary_accuracy: 0.6453\n",
      "Epoch 5/80\n",
      "11326/11326 [==============================] - 3s 304us/step - loss: 0.6420 - binary_accuracy: 0.6422 - val_loss: 0.6885 - val_binary_accuracy: 0.6468\n",
      "Epoch 6/80\n",
      "11326/11326 [==============================] - 3s 304us/step - loss: 0.6290 - binary_accuracy: 0.6485 - val_loss: 0.6391 - val_binary_accuracy: 0.6533\n",
      "Epoch 7/80\n",
      "11326/11326 [==============================] - 3s 307us/step - loss: 0.6164 - binary_accuracy: 0.6576 - val_loss: 0.6384 - val_binary_accuracy: 0.6703\n",
      "Epoch 8/80\n",
      "11326/11326 [==============================] - 3s 305us/step - loss: 0.6201 - binary_accuracy: 0.6588 - val_loss: 1.0245 - val_binary_accuracy: 0.6183\n",
      "Epoch 9/80\n",
      "11326/11326 [==============================] - 3s 303us/step - loss: 0.6131 - binary_accuracy: 0.6579 - val_loss: 0.6424 - val_binary_accuracy: 0.6218\n",
      "Epoch 00009: early stopping\n"
     ]
    }
   ],
   "source": [
    "### Alternative model - 2 conv layers\n",
    "np.random.seed(15)  # fix the random numbers generator state\n",
    "\n",
    "batch_size = 64\n",
    "pool_size = 30\n",
    "strides = 30\n",
    "# hidden_units = 15\n",
    "input_shape = X_train.shape[1:]\n",
    "nb_epochs = 80\n",
    "nb_classes = 1\n",
    "dropout = 0.1\n",
    "early_stopping = EarlyStopping(monitor='val_loss', min_delta=0.01, patience=3, verbose=1)\n",
    "sgd = SGD(lr=0.005, decay=1e-5, momentum=0.9, nesterov=True)\n",
    "\n",
    "print('Build model...')\n",
    "\n",
    "model = Sequential()\n",
    "\n",
    "model.add(Conv1D(input_shape=input_shape, filters=64, kernel_size=50))\n",
    "model.add(BatchNorm())\n",
    "model.add(LeakyReLU(alpha=0.01))\n",
    "model.add(Dropout(dropout))\n",
    "\n",
    "model.add(Conv1D(filters=128, kernel_size=50))\n",
    "model.add(BatchNorm())\n",
    "model.add(LeakyReLU(alpha=0.01))\n",
    "model.add(MaxPooling1D(pool_size=pool_size, strides=strides))\n",
    "\n",
    "model.add(Flatten())\n",
    "model.add(Dropout(dropout))\n",
    "\n",
    "model.add(Dense(128))\n",
    "model.add(Activation('linear'))\n",
    "\n",
    "model.add(Dense(nb_classes))\n",
    "model.add(Activation('sigmoid'))\n",
    "\n",
    "# sgd gives better performance but it is slow, so use adam to check the ideas\n",
    "model.compile(loss='binary_crossentropy', metrics=['binary_accuracy'], optimizer='adam')  # was adam (rmsprop alternative)\n",
    "\n",
    "model.summary()\n",
    "\n",
    "print(\"Train...\")\n",
    "history = model.fit(X_train, Y_train, batch_size=batch_size, epochs=nb_epochs, verbose=1, callbacks=[early_stopping],\n",
    "                    validation_split=0.15)"
   ]
  },
  {
   "cell_type": "markdown",
   "metadata": {},
   "source": [
    "### Test the model performance"
   ]
  },
  {
   "cell_type": "code",
   "execution_count": 57,
   "metadata": {},
   "outputs": [
    {
     "name": "stdout",
     "output_type": "stream",
     "text": [
      "1481/1481 [==============================] - 0s 126us/step\n"
     ]
    },
    {
     "data": {
      "text/plain": [
       "[0.6488692943990271, 0.626603646345995]"
      ]
     },
     "execution_count": 57,
     "metadata": {},
     "output_type": "execute_result"
    }
   ],
   "source": [
    "# Y_pred = model.predict(X_test)\n",
    "model.evaluate(X_test, Y_test)"
   ]
  },
  {
   "cell_type": "code",
   "execution_count": 19,
   "metadata": {},
   "outputs": [
    {
     "name": "stdout",
     "output_type": "stream",
     "text": [
      "Accuracy is 0.6151249155975692\n",
      "AUC is 0.6946108440200192\n",
      "F1-score is 0.677601809954751\n"
     ]
    }
   ],
   "source": [
    "Y_pred = model.predict_proba(X_test)\n",
    "print('Accuracy is', accuracy_score(Y_test, np.round(Y_pred)))\n",
    "AUC = roc_auc_score(Y_test, Y_pred)\n",
    "print('AUC is', AUC)\n",
    "f1 = f1_score(Y_test, np.round(Y_pred))\n",
    "print('F1-score is', f1)"
   ]
  },
  {
   "cell_type": "code",
   "execution_count": 20,
   "metadata": {},
   "outputs": [
    {
     "data": {
      "text/plain": [
       "0.7153888329922354"
      ]
     },
     "execution_count": 20,
     "metadata": {},
     "output_type": "execute_result"
    }
   ],
   "source": [
    "np.mean(history.history['val_loss'])"
   ]
  },
  {
   "cell_type": "markdown",
   "metadata": {},
   "source": [
    "### Visualize training"
   ]
  },
  {
   "cell_type": "code",
   "execution_count": 7,
   "metadata": {},
   "outputs": [
    {
     "data": {
      "image/png": "[encoded data removed]",
      "text/plain": [
       "<Figure size 432x288 with 1 Axes>"
      ]
     },
     "metadata": {},
     "output_type": "display_data"
    }
   ],
   "source": [
    "fig = plt.figure()\n",
    "plt.plot(history.history['val_loss'])\n",
    "plt.plot(history.history['loss'])\n",
    "plt.title('Model training')\n",
    "plt.ylabel('Loss')\n",
    "plt.xlabel('Number of epochs')\n",
    "plt.legend(['Validation loss', 'Training loss'], loc='upper right')\n",
    "plt.savefig('graphs/loss.png')\n",
    "plt.show()\n",
    "plt.close()"
   ]
  },
  {
   "cell_type": "markdown",
   "metadata": {},
   "source": [
    "### 10-fold cross-validation"
   ]
  },
  {
   "cell_type": "code",
   "execution_count": 13,
   "metadata": {
    "scrolled": true
   },
   "outputs": [
    {
     "name": "stdout",
     "output_type": "stream",
     "text": [
      "Train on 11325 samples, validate on 1999 samples\n",
      "Epoch 1/30\n",
      "11325/11325 [==============================] - 5s 401us/step - loss: 3.7879 - binary_accuracy: 0.5559 - val_loss: 0.9091 - val_binary_accuracy: 0.4672\n",
      "Epoch 2/30\n",
      "11325/11325 [==============================] - 2s 211us/step - loss: 0.6950 - binary_accuracy: 0.6088 - val_loss: 0.8072 - val_binary_accuracy: 0.4687\n",
      "Epoch 3/30\n",
      "11325/11325 [==============================] - 2s 212us/step - loss: 0.6633 - binary_accuracy: 0.6247 - val_loss: 0.7946 - val_binary_accuracy: 0.4492\n",
      "Epoch 4/30\n",
      "11325/11325 [==============================] - 2s 211us/step - loss: 0.6452 - binary_accuracy: 0.6273 - val_loss: 0.8242 - val_binary_accuracy: 0.4317\n",
      "Epoch 5/30\n",
      "11325/11325 [==============================] - 2s 212us/step - loss: 0.6296 - binary_accuracy: 0.6484 - val_loss: 0.8017 - val_binary_accuracy: 0.3862\n",
      "Epoch 6/30\n",
      "11325/11325 [==============================] - 2s 211us/step - loss: 0.6249 - binary_accuracy: 0.6479 - val_loss: 0.7691 - val_binary_accuracy: 0.4812\n",
      "Epoch 7/30\n",
      "11325/11325 [==============================] - 2s 212us/step - loss: 0.6102 - binary_accuracy: 0.6588 - val_loss: 0.7689 - val_binary_accuracy: 0.4537\n",
      "Epoch 8/30\n",
      "11325/11325 [==============================] - 2s 211us/step - loss: 0.6060 - binary_accuracy: 0.6687 - val_loss: 0.7808 - val_binary_accuracy: 0.5228\n",
      "Epoch 9/30\n",
      "11325/11325 [==============================] - 2s 211us/step - loss: 0.6050 - binary_accuracy: 0.6645 - val_loss: 0.7640 - val_binary_accuracy: 0.4932\n",
      "Epoch 00009: early stopping\n",
      "Accuracy is 0.6707152496626181\n",
      "AUC is 0.7288414641919864\n",
      "F1-score is 0.6611111111111111\n",
      "Train on 11325 samples, validate on 1999 samples\n",
      "Epoch 1/30\n",
      "11325/11325 [==============================] - 5s 411us/step - loss: 3.1664 - binary_accuracy: 0.5680 - val_loss: 0.9324 - val_binary_accuracy: 0.4907\n",
      "Epoch 2/30\n",
      "11325/11325 [==============================] - 2s 213us/step - loss: 0.7084 - binary_accuracy: 0.6082 - val_loss: 0.8123 - val_binary_accuracy: 0.4662\n",
      "Epoch 3/30\n",
      "11325/11325 [==============================] - 2s 211us/step - loss: 0.6459 - binary_accuracy: 0.6276 - val_loss: 0.7854 - val_binary_accuracy: 0.4347\n",
      "Epoch 4/30\n",
      "11325/11325 [==============================] - 2s 213us/step - loss: 0.6282 - binary_accuracy: 0.6445 - val_loss: 0.7732 - val_binary_accuracy: 0.4857\n",
      "Epoch 5/30\n",
      "11325/11325 [==============================] - 2s 214us/step - loss: 0.6158 - binary_accuracy: 0.6531 - val_loss: 0.8068 - val_binary_accuracy: 0.3967\n",
      "Epoch 6/30\n",
      "11325/11325 [==============================] - 2s 214us/step - loss: 0.6103 - binary_accuracy: 0.6585 - val_loss: 0.7701 - val_binary_accuracy: 0.3782\n",
      "Epoch 7/30\n",
      "11325/11325 [==============================] - 2s 213us/step - loss: 0.6016 - binary_accuracy: 0.6671 - val_loss: 0.7906 - val_binary_accuracy: 0.4242\n",
      "Epoch 00007: early stopping\n",
      "Accuracy is 0.6383265856950068\n",
      "AUC is 0.7147433620904748\n",
      "F1-score is 0.6624685138539043\n",
      "Train on 11326 samples, validate on 1999 samples\n",
      "Epoch 1/30\n",
      "11326/11326 [==============================] - 5s 415us/step - loss: 2.9219 - binary_accuracy: 0.5560 - val_loss: 0.8833 - val_binary_accuracy: 0.4602\n",
      "Epoch 2/30\n",
      "11326/11326 [==============================] - 2s 213us/step - loss: 0.6890 - binary_accuracy: 0.6138 - val_loss: 0.7634 - val_binary_accuracy: 0.5953\n",
      "Epoch 3/30\n",
      "11326/11326 [==============================] - 2s 213us/step - loss: 0.6546 - binary_accuracy: 0.6298 - val_loss: 0.8344 - val_binary_accuracy: 0.4382\n",
      "Epoch 4/30\n",
      "11326/11326 [==============================] - 2s 214us/step - loss: 0.6267 - binary_accuracy: 0.6445 - val_loss: 0.8007 - val_binary_accuracy: 0.3932\n",
      "Epoch 5/30\n",
      "11326/11326 [==============================] - 2s 211us/step - loss: 0.6239 - binary_accuracy: 0.6474 - val_loss: 0.7834 - val_binary_accuracy: 0.4222\n",
      "Epoch 00005: early stopping\n",
      "Accuracy is 0.6205266711681297\n",
      "AUC is 0.682789874895138\n",
      "F1-score is 0.6589805825242719\n",
      "Train on 11326 samples, validate on 1999 samples\n",
      "Epoch 1/30\n",
      "11326/11326 [==============================] - 5s 426us/step - loss: 3.4312 - binary_accuracy: 0.5573 - val_loss: 0.9924 - val_binary_accuracy: 0.4912\n",
      "Epoch 2/30\n",
      "11326/11326 [==============================] - 2s 213us/step - loss: 0.6978 - binary_accuracy: 0.6087 - val_loss: 0.8180 - val_binary_accuracy: 0.4322\n",
      "Epoch 3/30\n",
      "11326/11326 [==============================] - 2s 214us/step - loss: 0.6401 - binary_accuracy: 0.6325 - val_loss: 0.7530 - val_binary_accuracy: 0.4807\n",
      "Epoch 4/30\n",
      "11326/11326 [==============================] - 2s 214us/step - loss: 0.6247 - binary_accuracy: 0.6516 - val_loss: 0.7462 - val_binary_accuracy: 0.4652\n",
      "Epoch 5/30\n",
      "11326/11326 [==============================] - 2s 214us/step - loss: 0.6202 - binary_accuracy: 0.6520 - val_loss: 0.7664 - val_binary_accuracy: 0.4492\n",
      "Epoch 6/30\n",
      "11326/11326 [==============================] - 2s 214us/step - loss: 0.6086 - binary_accuracy: 0.6646 - val_loss: 0.8009 - val_binary_accuracy: 0.3927\n",
      "Epoch 00006: early stopping\n",
      "Accuracy is 0.611748818365969\n",
      "AUC is 0.6965568807674071\n",
      "F1-score is 0.6693502012650948\n",
      "Train on 11327 samples, validate on 1999 samples\n",
      "Epoch 1/30\n",
      "11327/11327 [==============================] - 5s 435us/step - loss: 2.9951 - binary_accuracy: 0.5446 - val_loss: 1.2837 - val_binary_accuracy: 0.4602\n",
      "Epoch 2/30\n",
      "11327/11327 [==============================] - 2s 213us/step - loss: 0.7062 - binary_accuracy: 0.6086 - val_loss: 0.7891 - val_binary_accuracy: 0.4442\n",
      "Epoch 3/30\n",
      "11327/11327 [==============================] - 2s 214us/step - loss: 0.6560 - binary_accuracy: 0.6298 - val_loss: 0.7905 - val_binary_accuracy: 0.4592\n",
      "Epoch 4/30\n",
      "11327/11327 [==============================] - 2s 215us/step - loss: 0.6331 - binary_accuracy: 0.6395 - val_loss: 0.7716 - val_binary_accuracy: 0.4692\n",
      "Epoch 5/30\n",
      "11327/11327 [==============================] - 2s 212us/step - loss: 0.6347 - binary_accuracy: 0.6356 - val_loss: 0.7558 - val_binary_accuracy: 0.4727\n",
      "Epoch 6/30\n",
      "11327/11327 [==============================] - 2s 213us/step - loss: 0.6118 - binary_accuracy: 0.6575 - val_loss: 0.7521 - val_binary_accuracy: 0.4562\n",
      "Epoch 7/30\n",
      "11327/11327 [==============================] - 2s 214us/step - loss: 0.6063 - binary_accuracy: 0.6605 - val_loss: 0.7719 - val_binary_accuracy: 0.4067\n",
      "Epoch 8/30\n",
      "11327/11327 [==============================] - 2s 213us/step - loss: 0.5997 - binary_accuracy: 0.6694 - val_loss: 0.7337 - val_binary_accuracy: 0.5648\n",
      "Epoch 9/30\n",
      "11327/11327 [==============================] - 2s 215us/step - loss: 0.5942 - binary_accuracy: 0.6726 - val_loss: 0.7626 - val_binary_accuracy: 0.4562\n",
      "Epoch 10/30\n",
      "11327/11327 [==============================] - 2s 214us/step - loss: 0.5982 - binary_accuracy: 0.6744 - val_loss: 0.8016 - val_binary_accuracy: 0.3887\n",
      "Epoch 11/30\n",
      "11327/11327 [==============================] - 2s 214us/step - loss: 0.5949 - binary_accuracy: 0.6778 - val_loss: 0.7206 - val_binary_accuracy: 0.5638\n",
      "Epoch 12/30\n",
      "11327/11327 [==============================] - 2s 214us/step - loss: 0.5900 - binary_accuracy: 0.6805 - val_loss: 0.7712 - val_binary_accuracy: 0.4542\n",
      "Epoch 13/30\n",
      "11327/11327 [==============================] - 2s 214us/step - loss: 0.5869 - binary_accuracy: 0.6845 - val_loss: 0.8192 - val_binary_accuracy: 0.4192\n",
      "Epoch 14/30\n",
      "11327/11327 [==============================] - 2s 215us/step - loss: 0.5860 - binary_accuracy: 0.6828 - val_loss: 0.7269 - val_binary_accuracy: 0.6218\n",
      "Epoch 00014: early stopping\n",
      "Accuracy is 0.6222972972972973\n",
      "AUC is 0.6819357195032871\n",
      "F1-score is 0.4847926267281105\n",
      "Train on 11327 samples, validate on 1999 samples\n",
      "Epoch 1/30\n",
      "11327/11327 [==============================] - 5s 444us/step - loss: 1.5516 - binary_accuracy: 0.5662 - val_loss: 0.9860 - val_binary_accuracy: 0.3992\n",
      "Epoch 2/30\n",
      "11327/11327 [==============================] - 2s 215us/step - loss: 0.7207 - binary_accuracy: 0.5982 - val_loss: 0.7910 - val_binary_accuracy: 0.5378\n",
      "Epoch 3/30\n",
      "11327/11327 [==============================] - 2s 214us/step - loss: 0.6959 - binary_accuracy: 0.6174 - val_loss: 0.9225 - val_binary_accuracy: 0.3717\n",
      "Epoch 4/30\n",
      "11327/11327 [==============================] - 2s 214us/step - loss: 0.6647 - binary_accuracy: 0.6258 - val_loss: 0.7079 - val_binary_accuracy: 0.6263\n",
      "Epoch 5/30\n",
      "11327/11327 [==============================] - 2s 215us/step - loss: 0.6282 - binary_accuracy: 0.6450 - val_loss: 0.7949 - val_binary_accuracy: 0.4207\n",
      "Epoch 6/30\n",
      "11327/11327 [==============================] - 2s 215us/step - loss: 0.6084 - binary_accuracy: 0.6593 - val_loss: 0.7516 - val_binary_accuracy: 0.5463\n",
      "Epoch 7/30\n",
      "11327/11327 [==============================] - 2s 215us/step - loss: 0.6049 - binary_accuracy: 0.6676 - val_loss: 0.7810 - val_binary_accuracy: 0.5068\n",
      "Epoch 00007: early stopping\n",
      "Accuracy is 0.6385135135135135\n",
      "AUC is 0.715968772826881\n",
      "F1-score is 0.676737160120846\n",
      "Train on 11327 samples, validate on 1999 samples\n",
      "Epoch 1/30\n",
      "11327/11327 [==============================] - 5s 452us/step - loss: 4.1226 - binary_accuracy: 0.5581 - val_loss: 1.0282 - val_binary_accuracy: 0.5553\n",
      "Epoch 2/30\n",
      "11327/11327 [==============================] - 2s 215us/step - loss: 0.7719 - binary_accuracy: 0.5981 - val_loss: 0.9592 - val_binary_accuracy: 0.3587\n",
      "Epoch 3/30\n",
      "11327/11327 [==============================] - 2s 215us/step - loss: 0.6949 - binary_accuracy: 0.6162 - val_loss: 0.7696 - val_binary_accuracy: 0.5143\n",
      "Epoch 4/30\n",
      "11327/11327 [==============================] - 2s 214us/step - loss: 0.6463 - binary_accuracy: 0.6375 - val_loss: 0.7954 - val_binary_accuracy: 0.3932\n",
      "Epoch 5/30\n",
      "11327/11327 [==============================] - 2s 215us/step - loss: 0.6116 - binary_accuracy: 0.6641 - val_loss: 0.7472 - val_binary_accuracy: 0.5473\n",
      "Epoch 6/30\n",
      "11327/11327 [==============================] - 2s 217us/step - loss: 0.6160 - binary_accuracy: 0.6571 - val_loss: 0.7695 - val_binary_accuracy: 0.4302\n",
      "Epoch 7/30\n",
      "11327/11327 [==============================] - 2s 216us/step - loss: 0.6050 - binary_accuracy: 0.6638 - val_loss: 0.7399 - val_binary_accuracy: 0.5053\n",
      "Epoch 8/30\n",
      "11327/11327 [==============================] - 2s 216us/step - loss: 0.6058 - binary_accuracy: 0.6688 - val_loss: 0.7676 - val_binary_accuracy: 0.4522\n",
      "Epoch 00008: early stopping\n",
      "Accuracy is 0.6405405405405405\n",
      "AUC is 0.706490138787436\n",
      "F1-score is 0.6522875816993463\n",
      "Train on 11327 samples, validate on 1999 samples\n",
      "Epoch 1/30\n",
      "11327/11327 [==============================] - 5s 462us/step - loss: 2.8809 - binary_accuracy: 0.5494 - val_loss: 0.8549 - val_binary_accuracy: 0.5003\n",
      "Epoch 2/30\n",
      "11327/11327 [==============================] - 2s 215us/step - loss: 0.7034 - binary_accuracy: 0.6087 - val_loss: 0.8523 - val_binary_accuracy: 0.4207\n",
      "Epoch 3/30\n",
      "11327/11327 [==============================] - 2s 216us/step - loss: 0.6607 - binary_accuracy: 0.6251 - val_loss: 0.8275 - val_binary_accuracy: 0.4102\n",
      "Epoch 4/30\n",
      "11327/11327 [==============================] - 2s 215us/step - loss: 0.6363 - binary_accuracy: 0.6369 - val_loss: 0.8339 - val_binary_accuracy: 0.4077\n",
      "Epoch 5/30\n",
      "11327/11327 [==============================] - 2s 216us/step - loss: 0.6236 - binary_accuracy: 0.6490 - val_loss: 0.8086 - val_binary_accuracy: 0.4387\n",
      "Epoch 6/30\n",
      "11327/11327 [==============================] - 2s 215us/step - loss: 0.6179 - binary_accuracy: 0.6520 - val_loss: 0.7649 - val_binary_accuracy: 0.4327\n",
      "Epoch 7/30\n",
      "11327/11327 [==============================] - 2s 216us/step - loss: 0.6074 - binary_accuracy: 0.6624 - val_loss: 0.7614 - val_binary_accuracy: 0.4647\n",
      "Epoch 8/30\n",
      "11327/11327 [==============================] - 2s 216us/step - loss: 0.5990 - binary_accuracy: 0.6714 - val_loss: 0.7635 - val_binary_accuracy: 0.4082\n",
      "Epoch 9/30\n",
      "11327/11327 [==============================] - 2s 216us/step - loss: 0.6003 - binary_accuracy: 0.6690 - val_loss: 0.7241 - val_binary_accuracy: 0.5528\n",
      "Epoch 10/30\n",
      "11327/11327 [==============================] - 2s 217us/step - loss: 0.5942 - binary_accuracy: 0.6744 - val_loss: 0.8499 - val_binary_accuracy: 0.3657\n",
      "Epoch 11/30\n",
      "11327/11327 [==============================] - 2s 215us/step - loss: 0.5910 - binary_accuracy: 0.6818 - val_loss: 0.8037 - val_binary_accuracy: 0.4237\n",
      "Epoch 12/30\n",
      "11327/11327 [==============================] - 2s 217us/step - loss: 0.5897 - binary_accuracy: 0.6772 - val_loss: 0.8325 - val_binary_accuracy: 0.4012\n",
      "Epoch 00012: early stopping\n",
      "Accuracy is 0.6263513513513513\n",
      "AUC is 0.7389043097151204\n",
      "F1-score is 0.6996197718631179\n",
      "Train on 11327 samples, validate on 1999 samples\n",
      "Epoch 1/30\n",
      "11327/11327 [==============================] - 6s 496us/step - loss: 4.5847 - binary_accuracy: 0.5208 - val_loss: 1.1896 - val_binary_accuracy: 0.4967\n",
      "Epoch 2/30\n",
      "11327/11327 [==============================] - 2s 218us/step - loss: 0.7060 - binary_accuracy: 0.6178 - val_loss: 0.7834 - val_binary_accuracy: 0.4622\n",
      "Epoch 3/30\n",
      "11327/11327 [==============================] - 2s 216us/step - loss: 0.6320 - binary_accuracy: 0.6402 - val_loss: 0.7604 - val_binary_accuracy: 0.4612\n",
      "Epoch 4/30\n",
      "11327/11327 [==============================] - 2s 216us/step - loss: 0.6296 - binary_accuracy: 0.6432 - val_loss: 0.7682 - val_binary_accuracy: 0.4577\n",
      "Epoch 5/30\n",
      "11327/11327 [==============================] - 2s 219us/step - loss: 0.6182 - binary_accuracy: 0.6504 - val_loss: 0.7418 - val_binary_accuracy: 0.4667\n",
      "Epoch 6/30\n",
      "11327/11327 [==============================] - 2s 216us/step - loss: 0.6093 - binary_accuracy: 0.6641 - val_loss: 0.7771 - val_binary_accuracy: 0.3772\n",
      "Epoch 7/30\n",
      "11327/11327 [==============================] - 2s 216us/step - loss: 0.6082 - binary_accuracy: 0.6607 - val_loss: 0.7971 - val_binary_accuracy: 0.4037\n",
      "Epoch 8/30\n",
      "11327/11327 [==============================] - 2s 218us/step - loss: 0.5984 - binary_accuracy: 0.6699 - val_loss: 0.7533 - val_binary_accuracy: 0.4977\n",
      "Epoch 00008: early stopping\n",
      "Accuracy is 0.6432432432432432\n",
      "AUC is 0.6935052958363769\n",
      "F1-score is 0.6071428571428572\n",
      "Train on 11327 samples, validate on 1999 samples\n",
      "Epoch 1/30\n",
      "11327/11327 [==============================] - 5s 476us/step - loss: 1.0274 - binary_accuracy: 0.5784 - val_loss: 0.8845 - val_binary_accuracy: 0.5903\n",
      "Epoch 2/30\n",
      "11327/11327 [==============================] - 2s 215us/step - loss: 0.7447 - binary_accuracy: 0.6038 - val_loss: 0.8225 - val_binary_accuracy: 0.4292\n",
      "Epoch 3/30\n",
      "11327/11327 [==============================] - 2s 215us/step - loss: 0.6574 - binary_accuracy: 0.6309 - val_loss: 0.7434 - val_binary_accuracy: 0.5683\n",
      "Epoch 4/30\n",
      "11327/11327 [==============================] - 2s 216us/step - loss: 0.6511 - binary_accuracy: 0.6324 - val_loss: 0.9521 - val_binary_accuracy: 0.3682\n",
      "Epoch 5/30\n",
      "11327/11327 [==============================] - 2s 216us/step - loss: 0.6521 - binary_accuracy: 0.6326 - val_loss: 0.7118 - val_binary_accuracy: 0.6073\n",
      "Epoch 6/30\n",
      "11327/11327 [==============================] - 2s 215us/step - loss: 0.6187 - binary_accuracy: 0.6564 - val_loss: 0.7845 - val_binary_accuracy: 0.4382\n",
      "Epoch 7/30\n",
      "11327/11327 [==============================] - 2s 217us/step - loss: 0.6043 - binary_accuracy: 0.6650 - val_loss: 0.7582 - val_binary_accuracy: 0.4612\n",
      "Epoch 8/30\n",
      "11327/11327 [==============================] - 2s 216us/step - loss: 0.6078 - binary_accuracy: 0.6584 - val_loss: 0.7259 - val_binary_accuracy: 0.5953\n",
      "Epoch 00008: early stopping\n",
      "Accuracy is 0.6506756756756756\n",
      "AUC is 0.7011504747991235\n",
      "F1-score is 0.584070796460177\n",
      "Accuracy:  63.62938946513346\n",
      "AUC:  0.7060886293413231\n",
      "f1-score:  0.6356561202768838\n"
     ]
    }
   ],
   "source": [
    "# fix random seed for reproducibility\n",
    "seed = 7\n",
    "# define 10-fold cross validation test harness\n",
    "kfold = StratifiedKFold(n_splits=10, shuffle=True, random_state=seed)\n",
    "acc_list = []\n",
    "AUC_list = []\n",
    "f1_list = []\n",
    "loss = []\n",
    "\n",
    "batch_size = 64\n",
    "pool_size = 30\n",
    "strides = 30\n",
    "# hidden_units = 15\n",
    "input_shape = X_train.shape[1:]\n",
    "nb_epochs = 30\n",
    "nb_classes = 1\n",
    "dropout = 0.05\n",
    "early_stopping = EarlyStopping(monitor='val_loss', min_delta=0.01, patience=3, verbose=1)\n",
    "\n",
    "X = X_train\n",
    "Y = Y_train\n",
    "\n",
    "for train, test in kfold.split(X, Y):\n",
    "    \n",
    "    X_train = X[train]\n",
    "    Y_train = Y[train]\n",
    "    X_test = X[test]\n",
    "    Y_test = Y[test]\n",
    "    \n",
    "    # added flip of the training data\n",
    "#     extend_x = np.flip(X_train, axis=1)\n",
    "#     extend_y = Y_train\n",
    "\n",
    "#     X_train = np.concatenate((X_train, extend_x), axis=0)\n",
    "#     Y_train = np.concatenate((Y_train, extend_y), axis=0)\n",
    "    \n",
    "    model = Sequential()\n",
    "\n",
    "    model.add(Conv1D(input_shape=input_shape, filters=64, kernel_size=10))\n",
    "    model.add(BatchNorm())\n",
    "    model.add(LeakyReLU(alpha=0.01))\n",
    "    model.add(Dropout(dropout))\n",
    "\n",
    "    model.add(Conv1D(filters=128, kernel_size=10))\n",
    "    model.add(BatchNorm())\n",
    "    model.add(LeakyReLU(alpha=0.01))\n",
    "    model.add(MaxPooling1D(pool_size=pool_size, strides=strides))  # was no strides before (default strides=pool_size)\n",
    "\n",
    "    model.add(Flatten())\n",
    "    model.add(Dropout(dropout))\n",
    "\n",
    "    model.add(Dense(128))\n",
    "    model.add(Activation('linear'))\n",
    "\n",
    "    model.add(Dense(nb_classes))\n",
    "    model.add(Activation('sigmoid'))\n",
    "\n",
    "    # sgd gives better performance but it is slow, so use adam to check the ideas\n",
    "    model.compile(loss='binary_crossentropy', metrics=['binary_accuracy'], optimizer='adam')  # was adam (rmsprop alternative)\n",
    "\n",
    "#     model.summary()\n",
    "\n",
    "#     print(\"Train...\")\n",
    "    history = model.fit(X_train, Y_train, batch_size=batch_size, epochs=nb_epochs, verbose=1, callbacks=[early_stopping],\n",
    "                        validation_split=0.15)\n",
    "\n",
    "    Y_pred = model.predict_proba(X_test)\n",
    "    acc = accuracy_score(Y_test, np.round(Y_pred))\n",
    "    print('Accuracy is', acc)\n",
    "    AUC = roc_auc_score(Y_test, Y_pred)\n",
    "    print('AUC is', AUC)\n",
    "    f1 = f1_score(Y_test, np.round(Y_pred))\n",
    "    print('F1-score is', f1)\n",
    "    \n",
    "    acc_list.append(acc)\n",
    "    AUC_list.append(AUC)\n",
    "    f1_list.append(f1)\n",
    "    loss.append(np.mean(history.history['val_loss']))\n",
    "    \n",
    "print('Accuracy: ', np.mean(acc_list)*100)\n",
    "print('AUC: ', np.mean(AUC_list))\n",
    "print('f1-score: ', np.mean(f1_list))\n"
   ]
  },
  {
   "cell_type": "code",
   "execution_count": 14,
   "metadata": {
    "scrolled": true
   },
   "outputs": [
    {
     "data": {
      "text/plain": [
       "[0.7288414641919864,\n",
       " 0.7147433620904748,\n",
       " 0.682789874895138,\n",
       " 0.6965568807674071,\n",
       " 0.6819357195032871,\n",
       " 0.715968772826881,\n",
       " 0.706490138787436,\n",
       " 0.7389043097151204,\n",
       " 0.6935052958363769,\n",
       " 0.7011504747991235]"
      ]
     },
     "execution_count": 14,
     "metadata": {},
     "output_type": "execute_result"
    }
   ],
   "source": [
    "AUC_list"
   ]
  },
  {
   "cell_type": "code",
   "execution_count": 12,
   "metadata": {},
   "outputs": [
    {
     "data": {
      "text/plain": [
       "75.75807307054345"
      ]
     },
     "execution_count": 12,
     "metadata": {},
     "output_type": "execute_result"
    }
   ],
   "source": [
    "np.mean(acc_list)*100"
   ]
  },
  {
   "cell_type": "code",
   "execution_count": 13,
   "metadata": {},
   "outputs": [
    {
     "data": {
      "text/plain": [
       "0.7640082530309672"
      ]
     },
     "execution_count": 13,
     "metadata": {},
     "output_type": "execute_result"
    }
   ],
   "source": [
    "np.mean(f1_list)"
   ]
  },
  {
   "cell_type": "code",
   "execution_count": 14,
   "metadata": {},
   "outputs": [
    {
     "data": {
      "text/plain": [
       "0.8678913524149543"
      ]
     },
     "execution_count": 14,
     "metadata": {},
     "output_type": "execute_result"
    }
   ],
   "source": [
    "np.mean(AUC_list)"
   ]
  },
  {
   "cell_type": "code",
   "execution_count": null,
   "metadata": {},
   "outputs": [],
   "source": []
  }
 ],
 "metadata": {
  "kernelspec": {
   "display_name": "Python 3",
   "language": "python",
   "name": "python3"
  },
  "language_info": {
   "codemirror_mode": {
    "name": "ipython",
    "version": 3
   },
   "file_extension": ".py",
   "mimetype": "text/x-python",
   "name": "python",
   "nbconvert_exporter": "python",
   "pygments_lexer": "ipython3",
   "version": "3.6.5"
  }
 },
 "nbformat": 4,
 "nbformat_minor": 2
}
